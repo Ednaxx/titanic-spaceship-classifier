{
 "cells": [
  {
   "cell_type": "markdown",
   "id": "c5a2b567",
   "metadata": {
    "papermill": {
     "duration": 0.007173,
     "end_time": "2023-12-12T02:27:27.109003",
     "exception": false,
     "start_time": "2023-12-12T02:27:27.101830",
     "status": "completed"
    },
    "tags": []
   },
   "source": [
    "# Dataset Description"
   ]
  },
  {
   "cell_type": "markdown",
   "id": "cb3af621",
   "metadata": {
    "papermill": {
     "duration": 0.006118,
     "end_time": "2023-12-12T02:27:27.121602",
     "exception": false,
     "start_time": "2023-12-12T02:27:27.115484",
     "status": "completed"
    },
    "tags": []
   },
   "source": [
    "In this competition your task is to predict whether a passenger was transported to an alternate dimension during the Spaceship Titanic's collision with the spacetime anomaly. To help you make these predictions, you're given a set of personal records recovered from the ship's damaged computer system."
   ]
  },
  {
   "cell_type": "markdown",
   "id": "6db02c11",
   "metadata": {
    "execution": {
     "iopub.execute_input": "2023-12-11T21:31:16.261900Z",
     "iopub.status.busy": "2023-12-11T21:31:16.261504Z",
     "iopub.status.idle": "2023-12-11T21:31:16.291414Z",
     "shell.execute_reply": "2023-12-11T21:31:16.290355Z",
     "shell.execute_reply.started": "2023-12-11T21:31:16.261866Z"
    },
    "papermill": {
     "duration": 0.006202,
     "end_time": "2023-12-12T02:27:27.134170",
     "exception": false,
     "start_time": "2023-12-12T02:27:27.127968",
     "status": "completed"
    },
    "tags": []
   },
   "source": [
    "## Data Field Descriptions\n",
    "\n",
    "- ```PassengerId``` - A unique Id for each passenger. Each Id takes the form gggg_pp where gggg indicates a group the passenger is travelling with and pp is their number within the group. People in a group are often family members, but not always.\n",
    "- ```HomePlanet``` - The planet the passenger departed from, typically their planet of permanent residence.\n",
    "- ```CryoSleep``` - Indicates whether the passenger elected to be put into suspended animation for the duration of the voyage. Passengers in cryosleep are confined to their cabins.\n",
    "- ```Cabin``` - The cabin number where the passenger is staying. Takes the form deck/num/side, where side can be either P for Port or S for Starboard.\n",
    "- ```Destination``` - The planet the passenger will be debarking to.\n",
    "- ```Age``` - The age of the passenger.\n",
    "- ```VIP``` - Whether the passenger has paid for special VIP service during the voyage.\n",
    "- ```RoomService```, ```FoodCourt```, ```ShoppingMall```, ```Spa```, ```VRDeck``` - Amount the passenger has billed at each of the Spaceship Titanic's many luxury amenities.\n",
    "- ```Name``` - The first and last names of the passenger.\n",
    "- ```Transported``` - Whether the passenger was transported to another dimension. This is the target, the column you are trying to predict."
   ]
  },
  {
   "cell_type": "markdown",
   "id": "3134a832",
   "metadata": {
    "papermill": {
     "duration": 0.006144,
     "end_time": "2023-12-12T02:27:27.146678",
     "exception": false,
     "start_time": "2023-12-12T02:27:27.140534",
     "status": "completed"
    },
    "tags": []
   },
   "source": [
    "# Importing Data"
   ]
  },
  {
   "cell_type": "code",
   "execution_count": 1,
   "id": "fecc5e12",
   "metadata": {
    "_cell_guid": "b1076dfc-b9ad-4769-8c92-a6c4dae69d19",
    "_uuid": "8f2839f25d086af736a60e9eeb907d3b93b6e0e5",
    "execution": {
     "iopub.execute_input": "2023-12-12T02:27:27.160771Z",
     "iopub.status.busy": "2023-12-12T02:27:27.160280Z",
     "iopub.status.idle": "2023-12-12T02:27:28.379503Z",
     "shell.execute_reply": "2023-12-12T02:27:28.378743Z"
    },
    "papermill": {
     "duration": 1.228806,
     "end_time": "2023-12-12T02:27:28.381817",
     "exception": false,
     "start_time": "2023-12-12T02:27:27.153011",
     "status": "completed"
    },
    "tags": []
   },
   "outputs": [],
   "source": [
    "import numpy as np\n",
    "import pandas as pd\n",
    "\n",
    "import seaborn as sns\n",
    "import matplotlib.pyplot as plt"
   ]
  },
  {
   "cell_type": "code",
   "execution_count": 2,
   "id": "0b3674bc",
   "metadata": {
    "execution": {
     "iopub.execute_input": "2023-12-12T02:27:28.397897Z",
     "iopub.status.busy": "2023-12-12T02:27:28.396299Z",
     "iopub.status.idle": "2023-12-12T02:27:28.457541Z",
     "shell.execute_reply": "2023-12-12T02:27:28.456763Z"
    },
    "papermill": {
     "duration": 0.070721,
     "end_time": "2023-12-12T02:27:28.459587",
     "exception": false,
     "start_time": "2023-12-12T02:27:28.388866",
     "status": "completed"
    },
    "tags": []
   },
   "outputs": [],
   "source": [
    "train_data = pd.read_csv('./input/train.csv')\n",
    "test_data = pd.read_csv('./input/test.csv')"
   ]
  },
  {
   "cell_type": "markdown",
   "id": "3253048a",
   "metadata": {
    "papermill": {
     "duration": 0.006051,
     "end_time": "2023-12-12T02:27:28.472368",
     "exception": false,
     "start_time": "2023-12-12T02:27:28.466317",
     "status": "completed"
    },
    "tags": []
   },
   "source": [
    "# Exploring Training Data"
   ]
  },
  {
   "cell_type": "code",
   "execution_count": 3,
   "id": "cce4db2a",
   "metadata": {
    "execution": {
     "iopub.execute_input": "2023-12-12T02:27:28.486032Z",
     "iopub.status.busy": "2023-12-12T02:27:28.485774Z",
     "iopub.status.idle": "2023-12-12T02:27:28.508924Z",
     "shell.execute_reply": "2023-12-12T02:27:28.508366Z"
    },
    "papermill": {
     "duration": 0.031731,
     "end_time": "2023-12-12T02:27:28.510357",
     "exception": false,
     "start_time": "2023-12-12T02:27:28.478626",
     "status": "completed"
    },
    "tags": []
   },
   "outputs": [
    {
     "data": {
      "text/html": [
       "<div>\n",
       "<style scoped>\n",
       "    .dataframe tbody tr th:only-of-type {\n",
       "        vertical-align: middle;\n",
       "    }\n",
       "\n",
       "    .dataframe tbody tr th {\n",
       "        vertical-align: top;\n",
       "    }\n",
       "\n",
       "    .dataframe thead th {\n",
       "        text-align: right;\n",
       "    }\n",
       "</style>\n",
       "<table border=\"1\" class=\"dataframe\">\n",
       "  <thead>\n",
       "    <tr style=\"text-align: right;\">\n",
       "      <th></th>\n",
       "      <th>PassengerId</th>\n",
       "      <th>HomePlanet</th>\n",
       "      <th>CryoSleep</th>\n",
       "      <th>Cabin</th>\n",
       "      <th>Destination</th>\n",
       "      <th>Age</th>\n",
       "      <th>VIP</th>\n",
       "      <th>RoomService</th>\n",
       "      <th>FoodCourt</th>\n",
       "      <th>ShoppingMall</th>\n",
       "      <th>Spa</th>\n",
       "      <th>VRDeck</th>\n",
       "      <th>Name</th>\n",
       "      <th>Transported</th>\n",
       "    </tr>\n",
       "  </thead>\n",
       "  <tbody>\n",
       "    <tr>\n",
       "      <th>0</th>\n",
       "      <td>0001_01</td>\n",
       "      <td>Europa</td>\n",
       "      <td>False</td>\n",
       "      <td>B/0/P</td>\n",
       "      <td>TRAPPIST-1e</td>\n",
       "      <td>39.0</td>\n",
       "      <td>False</td>\n",
       "      <td>0.0</td>\n",
       "      <td>0.0</td>\n",
       "      <td>0.0</td>\n",
       "      <td>0.0</td>\n",
       "      <td>0.0</td>\n",
       "      <td>Maham Ofracculy</td>\n",
       "      <td>False</td>\n",
       "    </tr>\n",
       "    <tr>\n",
       "      <th>1</th>\n",
       "      <td>0002_01</td>\n",
       "      <td>Earth</td>\n",
       "      <td>False</td>\n",
       "      <td>F/0/S</td>\n",
       "      <td>TRAPPIST-1e</td>\n",
       "      <td>24.0</td>\n",
       "      <td>False</td>\n",
       "      <td>109.0</td>\n",
       "      <td>9.0</td>\n",
       "      <td>25.0</td>\n",
       "      <td>549.0</td>\n",
       "      <td>44.0</td>\n",
       "      <td>Juanna Vines</td>\n",
       "      <td>True</td>\n",
       "    </tr>\n",
       "    <tr>\n",
       "      <th>2</th>\n",
       "      <td>0003_01</td>\n",
       "      <td>Europa</td>\n",
       "      <td>False</td>\n",
       "      <td>A/0/S</td>\n",
       "      <td>TRAPPIST-1e</td>\n",
       "      <td>58.0</td>\n",
       "      <td>True</td>\n",
       "      <td>43.0</td>\n",
       "      <td>3576.0</td>\n",
       "      <td>0.0</td>\n",
       "      <td>6715.0</td>\n",
       "      <td>49.0</td>\n",
       "      <td>Altark Susent</td>\n",
       "      <td>False</td>\n",
       "    </tr>\n",
       "    <tr>\n",
       "      <th>3</th>\n",
       "      <td>0003_02</td>\n",
       "      <td>Europa</td>\n",
       "      <td>False</td>\n",
       "      <td>A/0/S</td>\n",
       "      <td>TRAPPIST-1e</td>\n",
       "      <td>33.0</td>\n",
       "      <td>False</td>\n",
       "      <td>0.0</td>\n",
       "      <td>1283.0</td>\n",
       "      <td>371.0</td>\n",
       "      <td>3329.0</td>\n",
       "      <td>193.0</td>\n",
       "      <td>Solam Susent</td>\n",
       "      <td>False</td>\n",
       "    </tr>\n",
       "    <tr>\n",
       "      <th>4</th>\n",
       "      <td>0004_01</td>\n",
       "      <td>Earth</td>\n",
       "      <td>False</td>\n",
       "      <td>F/1/S</td>\n",
       "      <td>TRAPPIST-1e</td>\n",
       "      <td>16.0</td>\n",
       "      <td>False</td>\n",
       "      <td>303.0</td>\n",
       "      <td>70.0</td>\n",
       "      <td>151.0</td>\n",
       "      <td>565.0</td>\n",
       "      <td>2.0</td>\n",
       "      <td>Willy Santantines</td>\n",
       "      <td>True</td>\n",
       "    </tr>\n",
       "  </tbody>\n",
       "</table>\n",
       "</div>"
      ],
      "text/plain": [
       "  PassengerId HomePlanet CryoSleep  Cabin  Destination   Age    VIP  \\\n",
       "0     0001_01     Europa     False  B/0/P  TRAPPIST-1e  39.0  False   \n",
       "1     0002_01      Earth     False  F/0/S  TRAPPIST-1e  24.0  False   \n",
       "2     0003_01     Europa     False  A/0/S  TRAPPIST-1e  58.0   True   \n",
       "3     0003_02     Europa     False  A/0/S  TRAPPIST-1e  33.0  False   \n",
       "4     0004_01      Earth     False  F/1/S  TRAPPIST-1e  16.0  False   \n",
       "\n",
       "   RoomService  FoodCourt  ShoppingMall     Spa  VRDeck               Name  \\\n",
       "0          0.0        0.0           0.0     0.0     0.0    Maham Ofracculy   \n",
       "1        109.0        9.0          25.0   549.0    44.0       Juanna Vines   \n",
       "2         43.0     3576.0           0.0  6715.0    49.0      Altark Susent   \n",
       "3          0.0     1283.0         371.0  3329.0   193.0       Solam Susent   \n",
       "4        303.0       70.0         151.0   565.0     2.0  Willy Santantines   \n",
       "\n",
       "   Transported  \n",
       "0        False  \n",
       "1         True  \n",
       "2        False  \n",
       "3        False  \n",
       "4         True  "
      ]
     },
     "execution_count": 3,
     "metadata": {},
     "output_type": "execute_result"
    }
   ],
   "source": [
    "train_data.head()"
   ]
  },
  {
   "cell_type": "code",
   "execution_count": 4,
   "id": "0ccedc1a",
   "metadata": {
    "execution": {
     "iopub.execute_input": "2023-12-12T02:27:28.524594Z",
     "iopub.status.busy": "2023-12-12T02:27:28.524221Z",
     "iopub.status.idle": "2023-12-12T02:27:28.616521Z",
     "shell.execute_reply": "2023-12-12T02:27:28.615891Z"
    },
    "papermill": {
     "duration": 0.102552,
     "end_time": "2023-12-12T02:27:28.619454",
     "exception": false,
     "start_time": "2023-12-12T02:27:28.516902",
     "status": "completed"
    },
    "tags": []
   },
   "outputs": [
    {
     "name": "stdout",
     "output_type": "stream",
     "text": [
      "<class 'pandas.core.frame.DataFrame'>\n",
      "RangeIndex: 8693 entries, 0 to 8692\n",
      "Data columns (total 14 columns):\n",
      " #   Column        Non-Null Count  Dtype  \n",
      "---  ------        --------------  -----  \n",
      " 0   PassengerId   8693 non-null   object \n",
      " 1   HomePlanet    8492 non-null   object \n",
      " 2   CryoSleep     8476 non-null   object \n",
      " 3   Cabin         8494 non-null   object \n",
      " 4   Destination   8511 non-null   object \n",
      " 5   Age           8514 non-null   float64\n",
      " 6   VIP           8490 non-null   object \n",
      " 7   RoomService   8512 non-null   float64\n",
      " 8   FoodCourt     8510 non-null   float64\n",
      " 9   ShoppingMall  8485 non-null   float64\n",
      " 10  Spa           8510 non-null   float64\n",
      " 11  VRDeck        8505 non-null   float64\n",
      " 12  Name          8493 non-null   object \n",
      " 13  Transported   8693 non-null   bool   \n",
      "dtypes: bool(1), float64(6), object(7)\n",
      "memory usage: 891.5+ KB\n"
     ]
    }
   ],
   "source": [
    "train_data.info()"
   ]
  },
  {
   "cell_type": "code",
   "execution_count": 5,
   "id": "02d414d5",
   "metadata": {
    "execution": {
     "iopub.execute_input": "2023-12-12T02:27:28.637018Z",
     "iopub.status.busy": "2023-12-12T02:27:28.636740Z",
     "iopub.status.idle": "2023-12-12T02:27:28.661073Z",
     "shell.execute_reply": "2023-12-12T02:27:28.660271Z"
    },
    "papermill": {
     "duration": 0.034541,
     "end_time": "2023-12-12T02:27:28.662624",
     "exception": false,
     "start_time": "2023-12-12T02:27:28.628083",
     "status": "completed"
    },
    "tags": []
   },
   "outputs": [
    {
     "data": {
      "text/html": [
       "<div>\n",
       "<style scoped>\n",
       "    .dataframe tbody tr th:only-of-type {\n",
       "        vertical-align: middle;\n",
       "    }\n",
       "\n",
       "    .dataframe tbody tr th {\n",
       "        vertical-align: top;\n",
       "    }\n",
       "\n",
       "    .dataframe thead th {\n",
       "        text-align: right;\n",
       "    }\n",
       "</style>\n",
       "<table border=\"1\" class=\"dataframe\">\n",
       "  <thead>\n",
       "    <tr style=\"text-align: right;\">\n",
       "      <th></th>\n",
       "      <th>Age</th>\n",
       "      <th>RoomService</th>\n",
       "      <th>FoodCourt</th>\n",
       "      <th>ShoppingMall</th>\n",
       "      <th>Spa</th>\n",
       "      <th>VRDeck</th>\n",
       "    </tr>\n",
       "  </thead>\n",
       "  <tbody>\n",
       "    <tr>\n",
       "      <th>count</th>\n",
       "      <td>8514.000000</td>\n",
       "      <td>8512.000000</td>\n",
       "      <td>8510.000000</td>\n",
       "      <td>8485.000000</td>\n",
       "      <td>8510.000000</td>\n",
       "      <td>8505.000000</td>\n",
       "    </tr>\n",
       "    <tr>\n",
       "      <th>mean</th>\n",
       "      <td>28.827930</td>\n",
       "      <td>224.687617</td>\n",
       "      <td>458.077203</td>\n",
       "      <td>173.729169</td>\n",
       "      <td>311.138778</td>\n",
       "      <td>304.854791</td>\n",
       "    </tr>\n",
       "    <tr>\n",
       "      <th>std</th>\n",
       "      <td>14.489021</td>\n",
       "      <td>666.717663</td>\n",
       "      <td>1611.489240</td>\n",
       "      <td>604.696458</td>\n",
       "      <td>1136.705535</td>\n",
       "      <td>1145.717189</td>\n",
       "    </tr>\n",
       "    <tr>\n",
       "      <th>min</th>\n",
       "      <td>0.000000</td>\n",
       "      <td>0.000000</td>\n",
       "      <td>0.000000</td>\n",
       "      <td>0.000000</td>\n",
       "      <td>0.000000</td>\n",
       "      <td>0.000000</td>\n",
       "    </tr>\n",
       "    <tr>\n",
       "      <th>25%</th>\n",
       "      <td>19.000000</td>\n",
       "      <td>0.000000</td>\n",
       "      <td>0.000000</td>\n",
       "      <td>0.000000</td>\n",
       "      <td>0.000000</td>\n",
       "      <td>0.000000</td>\n",
       "    </tr>\n",
       "    <tr>\n",
       "      <th>50%</th>\n",
       "      <td>27.000000</td>\n",
       "      <td>0.000000</td>\n",
       "      <td>0.000000</td>\n",
       "      <td>0.000000</td>\n",
       "      <td>0.000000</td>\n",
       "      <td>0.000000</td>\n",
       "    </tr>\n",
       "    <tr>\n",
       "      <th>75%</th>\n",
       "      <td>38.000000</td>\n",
       "      <td>47.000000</td>\n",
       "      <td>76.000000</td>\n",
       "      <td>27.000000</td>\n",
       "      <td>59.000000</td>\n",
       "      <td>46.000000</td>\n",
       "    </tr>\n",
       "    <tr>\n",
       "      <th>max</th>\n",
       "      <td>79.000000</td>\n",
       "      <td>14327.000000</td>\n",
       "      <td>29813.000000</td>\n",
       "      <td>23492.000000</td>\n",
       "      <td>22408.000000</td>\n",
       "      <td>24133.000000</td>\n",
       "    </tr>\n",
       "  </tbody>\n",
       "</table>\n",
       "</div>"
      ],
      "text/plain": [
       "               Age   RoomService     FoodCourt  ShoppingMall           Spa  \\\n",
       "count  8514.000000   8512.000000   8510.000000   8485.000000   8510.000000   \n",
       "mean     28.827930    224.687617    458.077203    173.729169    311.138778   \n",
       "std      14.489021    666.717663   1611.489240    604.696458   1136.705535   \n",
       "min       0.000000      0.000000      0.000000      0.000000      0.000000   \n",
       "25%      19.000000      0.000000      0.000000      0.000000      0.000000   \n",
       "50%      27.000000      0.000000      0.000000      0.000000      0.000000   \n",
       "75%      38.000000     47.000000     76.000000     27.000000     59.000000   \n",
       "max      79.000000  14327.000000  29813.000000  23492.000000  22408.000000   \n",
       "\n",
       "             VRDeck  \n",
       "count   8505.000000  \n",
       "mean     304.854791  \n",
       "std     1145.717189  \n",
       "min        0.000000  \n",
       "25%        0.000000  \n",
       "50%        0.000000  \n",
       "75%       46.000000  \n",
       "max    24133.000000  "
      ]
     },
     "execution_count": 5,
     "metadata": {},
     "output_type": "execute_result"
    }
   ],
   "source": [
    "train_data.describe()"
   ]
  },
  {
   "cell_type": "markdown",
   "id": "67305c59",
   "metadata": {
    "papermill": {
     "duration": 0.006591,
     "end_time": "2023-12-12T02:27:28.676799",
     "exception": false,
     "start_time": "2023-12-12T02:27:28.670208",
     "status": "completed"
    },
    "tags": []
   },
   "source": [
    "## Drop irrelevant columns\n"
   ]
  },
  {
   "cell_type": "code",
   "execution_count": 6,
   "id": "6d37fa1f",
   "metadata": {
    "execution": {
     "iopub.execute_input": "2023-12-12T02:27:28.691357Z",
     "iopub.status.busy": "2023-12-12T02:27:28.691129Z",
     "iopub.status.idle": "2023-12-12T02:27:28.698162Z",
     "shell.execute_reply": "2023-12-12T02:27:28.697375Z"
    },
    "papermill": {
     "duration": 0.01625,
     "end_time": "2023-12-12T02:27:28.699701",
     "exception": false,
     "start_time": "2023-12-12T02:27:28.683451",
     "status": "completed"
    },
    "tags": []
   },
   "outputs": [],
   "source": [
    "train_data = train_data.drop([\"PassengerId\", \"Name\"], axis=1)"
   ]
  },
  {
   "cell_type": "markdown",
   "id": "91f52b9c",
   "metadata": {
    "papermill": {
     "duration": 0.006505,
     "end_time": "2023-12-12T02:27:28.713020",
     "exception": false,
     "start_time": "2023-12-12T02:27:28.706515",
     "status": "completed"
    },
    "tags": []
   },
   "source": [
    "## Cabin\n",
    "\n",
    "Cabins are registred in \"deck/num/side\" form. We'll sepperate it into different columns"
   ]
  },
  {
   "cell_type": "code",
   "execution_count": 7,
   "id": "4eac1128",
   "metadata": {
    "execution": {
     "iopub.execute_input": "2023-12-12T02:27:28.727436Z",
     "iopub.status.busy": "2023-12-12T02:27:28.727219Z",
     "iopub.status.idle": "2023-12-12T02:27:28.746073Z",
     "shell.execute_reply": "2023-12-12T02:27:28.745357Z"
    },
    "papermill": {
     "duration": 0.02791,
     "end_time": "2023-12-12T02:27:28.747629",
     "exception": false,
     "start_time": "2023-12-12T02:27:28.719719",
     "status": "completed"
    },
    "tags": []
   },
   "outputs": [
    {
     "data": {
      "text/html": [
       "<div>\n",
       "<style scoped>\n",
       "    .dataframe tbody tr th:only-of-type {\n",
       "        vertical-align: middle;\n",
       "    }\n",
       "\n",
       "    .dataframe tbody tr th {\n",
       "        vertical-align: top;\n",
       "    }\n",
       "\n",
       "    .dataframe thead th {\n",
       "        text-align: right;\n",
       "    }\n",
       "</style>\n",
       "<table border=\"1\" class=\"dataframe\">\n",
       "  <thead>\n",
       "    <tr style=\"text-align: right;\">\n",
       "      <th></th>\n",
       "      <th>CabinDeck</th>\n",
       "      <th>CabinNumber</th>\n",
       "      <th>CabinSide</th>\n",
       "    </tr>\n",
       "  </thead>\n",
       "  <tbody>\n",
       "    <tr>\n",
       "      <th>0</th>\n",
       "      <td>B</td>\n",
       "      <td>0</td>\n",
       "      <td>P</td>\n",
       "    </tr>\n",
       "    <tr>\n",
       "      <th>1</th>\n",
       "      <td>F</td>\n",
       "      <td>0</td>\n",
       "      <td>S</td>\n",
       "    </tr>\n",
       "    <tr>\n",
       "      <th>2</th>\n",
       "      <td>A</td>\n",
       "      <td>0</td>\n",
       "      <td>S</td>\n",
       "    </tr>\n",
       "    <tr>\n",
       "      <th>3</th>\n",
       "      <td>A</td>\n",
       "      <td>0</td>\n",
       "      <td>S</td>\n",
       "    </tr>\n",
       "    <tr>\n",
       "      <th>4</th>\n",
       "      <td>F</td>\n",
       "      <td>1</td>\n",
       "      <td>S</td>\n",
       "    </tr>\n",
       "  </tbody>\n",
       "</table>\n",
       "</div>"
      ],
      "text/plain": [
       "  CabinDeck CabinNumber CabinSide\n",
       "0         B           0         P\n",
       "1         F           0         S\n",
       "2         A           0         S\n",
       "3         A           0         S\n",
       "4         F           1         S"
      ]
     },
     "execution_count": 7,
     "metadata": {},
     "output_type": "execute_result"
    }
   ],
   "source": [
    "cabins = train_data.Cabin.str.split(\"/\", expand=True)\n",
    "cabins = cabins.rename(columns={0: \"CabinDeck\", 1: \"CabinNumber\", 2: \"CabinSide\"})\n",
    "cabins.head()"
   ]
  },
  {
   "cell_type": "code",
   "execution_count": 8,
   "id": "279ad2ca",
   "metadata": {
    "execution": {
     "iopub.execute_input": "2023-12-12T02:27:28.763019Z",
     "iopub.status.busy": "2023-12-12T02:27:28.762778Z",
     "iopub.status.idle": "2023-12-12T02:27:28.768106Z",
     "shell.execute_reply": "2023-12-12T02:27:28.767473Z"
    },
    "papermill": {
     "duration": 0.014544,
     "end_time": "2023-12-12T02:27:28.769631",
     "exception": false,
     "start_time": "2023-12-12T02:27:28.755087",
     "status": "completed"
    },
    "tags": []
   },
   "outputs": [],
   "source": [
    "train_data = train_data.drop(\"Cabin\", axis=1)\n",
    "train_data = pd.concat([train_data, cabins], axis=1)"
   ]
  },
  {
   "cell_type": "markdown",
   "id": "0f94b07a",
   "metadata": {
    "papermill": {
     "duration": 0.006668,
     "end_time": "2023-12-12T02:27:28.783500",
     "exception": false,
     "start_time": "2023-12-12T02:27:28.776832",
     "status": "completed"
    },
    "tags": []
   },
   "source": [
    "## Numerical Columns"
   ]
  },
  {
   "cell_type": "code",
   "execution_count": 9,
   "id": "e86bd7aa",
   "metadata": {
    "execution": {
     "iopub.execute_input": "2023-12-12T02:27:28.798265Z",
     "iopub.status.busy": "2023-12-12T02:27:28.798047Z",
     "iopub.status.idle": "2023-12-12T02:27:30.979827Z",
     "shell.execute_reply": "2023-12-12T02:27:30.979033Z"
    },
    "papermill": {
     "duration": 2.191195,
     "end_time": "2023-12-12T02:27:30.981586",
     "exception": false,
     "start_time": "2023-12-12T02:27:28.790391",
     "status": "completed"
    },
    "tags": []
   },
   "outputs": [
    {
     "data": {
      "image/png": "[encoded data removed]",
      "text/plain": [
       "<Figure size 2000x1200 with 6 Axes>"
      ]
     },
     "metadata": {},
     "output_type": "display_data"
    }
   ],
   "source": [
    "categories = np.reshape([\"Age\", \"RoomService\", \"FoodCourt\", \"ShoppingMall\", \"Spa\", \"VRDeck\"], (2,3))\n",
    "\n",
    "fig, axs = plt.subplots(2, 3, figsize=(20, 12))\n",
    "\n",
    "for i in range(2):\n",
    "    for j in range(3):\n",
    "        axs[i][j].set_title(categories[i][j])\n",
    "        sns.histplot(x=train_data[categories[i][j]], hue=train_data.Transported, bins=20, ax=axs[i][j], kde=True)"
   ]
  },
  {
   "cell_type": "markdown",
   "id": "8a67c882",
   "metadata": {
    "papermill": {
     "duration": 0.008158,
     "end_time": "2023-12-12T02:27:30.998524",
     "exception": false,
     "start_time": "2023-12-12T02:27:30.990366",
     "status": "completed"
    },
    "tags": []
   },
   "source": [
    "## Categorical Columns"
   ]
  },
  {
   "cell_type": "code",
   "execution_count": 10,
   "id": "387cbbac",
   "metadata": {
    "execution": {
     "iopub.execute_input": "2023-12-12T02:27:31.016312Z",
     "iopub.status.busy": "2023-12-12T02:27:31.015820Z",
     "iopub.status.idle": "2023-12-12T02:27:32.186991Z",
     "shell.execute_reply": "2023-12-12T02:27:32.186147Z"
    },
    "papermill": {
     "duration": 1.182519,
     "end_time": "2023-12-12T02:27:32.189223",
     "exception": false,
     "start_time": "2023-12-12T02:27:31.006704",
     "status": "completed"
    },
    "tags": []
   },
   "outputs": [
    {
     "data": {
      "image/png": "[encoded data removed]",
      "text/plain": [
       "<Figure size 2000x1200 with 6 Axes>"
      ]
     },
     "metadata": {},
     "output_type": "display_data"
    }
   ],
   "source": [
    "categories = np.reshape([\"HomePlanet\", \"CryoSleep\", \"Destination\", \"VIP\", \"CabinDeck\", \"CabinSide\"], (2,3))\n",
    "\n",
    "fig, axs = plt.subplots(2, 3, figsize=(20, 12))\n",
    "\n",
    "for i in range(2):\n",
    "    for j in range(3):\n",
    "        axs[i][j].set_title(categories[i][j])\n",
    "        sns.countplot(x=train_data[categories[i][j]], hue=train_data.Transported, ax=axs[i][j])"
   ]
  },
  {
   "cell_type": "markdown",
   "id": "21706bbb",
   "metadata": {
    "papermill": {
     "duration": 0.00876,
     "end_time": "2023-12-12T02:27:32.207536",
     "exception": false,
     "start_time": "2023-12-12T02:27:32.198776",
     "status": "completed"
    },
    "tags": []
   },
   "source": [
    "# Model Evaluation"
   ]
  },
  {
   "cell_type": "markdown",
   "id": "6b240230",
   "metadata": {
    "papermill": {
     "duration": 0.008675,
     "end_time": "2023-12-12T02:27:32.225163",
     "exception": false,
     "start_time": "2023-12-12T02:27:32.216488",
     "status": "completed"
    },
    "tags": []
   },
   "source": [
    "## Split Training Data"
   ]
  },
  {
   "cell_type": "code",
   "execution_count": 11,
   "id": "e179fcde",
   "metadata": {
    "execution": {
     "iopub.execute_input": "2023-12-12T02:27:32.244376Z",
     "iopub.status.busy": "2023-12-12T02:27:32.244013Z",
     "iopub.status.idle": "2023-12-12T02:27:32.553968Z",
     "shell.execute_reply": "2023-12-12T02:27:32.553199Z"
    },
    "papermill": {
     "duration": 0.32209,
     "end_time": "2023-12-12T02:27:32.556303",
     "exception": false,
     "start_time": "2023-12-12T02:27:32.234213",
     "status": "completed"
    },
    "tags": []
   },
   "outputs": [],
   "source": [
    "from sklearn.model_selection import train_test_split\n",
    "X_train, X_valid, y_train, y_valid = train_test_split(train_data.drop(\"Transported\", axis=1), train_data.Transported, test_size = 0.2, random_state=1)"
   ]
  },
  {
   "cell_type": "markdown",
   "id": "53473878",
   "metadata": {
    "papermill": {
     "duration": 0.008766,
     "end_time": "2023-12-12T02:27:32.574873",
     "exception": false,
     "start_time": "2023-12-12T02:27:32.566107",
     "status": "completed"
    },
    "tags": []
   },
   "source": [
    "## Random Forest Classifier\n",
    "\n",
    "First, we'll evaluate a Random Forest Classifier. We'll set up a Pipeline for imputations and encodings and then we'll use a GridSearch CV to find the best Hyperparameters and evaluate the model based on accuracy."
   ]
  },
  {
   "cell_type": "markdown",
   "id": "9aeb8554",
   "metadata": {
    "papermill": {
     "duration": 0.009016,
     "end_time": "2023-12-12T02:27:32.650451",
     "exception": false,
     "start_time": "2023-12-12T02:27:32.641435",
     "status": "completed"
    },
    "tags": []
   },
   "source": [
    "### Set up pipeline"
   ]
  },
  {
   "cell_type": "code",
   "execution_count": 12,
   "id": "6ebb35c0",
   "metadata": {
    "execution": {
     "iopub.execute_input": "2023-12-12T02:27:32.670063Z",
     "iopub.status.busy": "2023-12-12T02:27:32.669675Z",
     "iopub.status.idle": "2023-12-12T02:27:32.865501Z",
     "shell.execute_reply": "2023-12-12T02:27:32.864724Z"
    },
    "papermill": {
     "duration": 0.208115,
     "end_time": "2023-12-12T02:27:32.867552",
     "exception": false,
     "start_time": "2023-12-12T02:27:32.659437",
     "status": "completed"
    },
    "tags": []
   },
   "outputs": [],
   "source": [
    "from sklearn.pipeline import Pipeline\n",
    "from sklearn.compose import ColumnTransformer\n",
    "from sklearn.impute import SimpleImputer\n",
    "from sklearn.preprocessing import OrdinalEncoder\n",
    "from sklearn.ensemble import RandomForestClassifier"
   ]
  },
  {
   "cell_type": "code",
   "execution_count": 13,
   "id": "7bd7e17e",
   "metadata": {
    "execution": {
     "iopub.execute_input": "2023-12-12T02:27:32.887980Z",
     "iopub.status.busy": "2023-12-12T02:27:32.887689Z",
     "iopub.status.idle": "2023-12-12T02:27:32.895588Z",
     "shell.execute_reply": "2023-12-12T02:27:32.894914Z"
    },
    "papermill": {
     "duration": 0.01948,
     "end_time": "2023-12-12T02:27:32.897093",
     "exception": false,
     "start_time": "2023-12-12T02:27:32.877613",
     "status": "completed"
    },
    "tags": []
   },
   "outputs": [],
   "source": [
    "numerical_cols = X_train.select_dtypes(include='number').columns\n",
    "categorical_cols = X_train.select_dtypes(include='object').columns\n",
    "\n",
    "# Preprocessing for numerical data\n",
    "numerical_transformer = SimpleImputer(strategy='mean')\n",
    "\n",
    "# Preprocessing for categorical data\n",
    "categorical_transformer = Pipeline(steps=[\n",
    "    ('imputer', SimpleImputer(strategy='most_frequent')),\n",
    "    ('ordinal', OrdinalEncoder(handle_unknown='use_encoded_value', unknown_value=-1))\n",
    "])\n",
    "\n",
    "#Bundling\n",
    "preprocessor = ColumnTransformer(\n",
    "    transformers=[\n",
    "        ('num', numerical_transformer, numerical_cols),\n",
    "        ('cat', categorical_transformer, categorical_cols)\n",
    "    ])\n",
    "\n",
    "\n",
    "model = RandomForestClassifier(random_state=1)\n",
    "\n",
    "pipe = Pipeline(steps=[('preprocessor', preprocessor), ('model', model)])"
   ]
  },
  {
   "cell_type": "markdown",
   "id": "c988db4c",
   "metadata": {
    "papermill": {
     "duration": 0.008672,
     "end_time": "2023-12-12T02:27:32.914759",
     "exception": false,
     "start_time": "2023-12-12T02:27:32.906087",
     "status": "completed"
    },
    "tags": []
   },
   "source": [
    "### GridSearch"
   ]
  },
  {
   "cell_type": "markdown",
   "id": "590240d1",
   "metadata": {
    "papermill": {
     "duration": 0.008662,
     "end_time": "2023-12-12T02:27:32.932339",
     "exception": false,
     "start_time": "2023-12-12T02:27:32.923677",
     "status": "completed"
    },
    "tags": []
   },
   "source": [
    "When setting a Pipeline inside a GridSearchCV, you can access the model's parameters by calling its name followed by \"\\__\". (e.g. \"model__n_estimators\")"
   ]
  },
  {
   "cell_type": "code",
   "execution_count": 14,
   "id": "29cafb5f",
   "metadata": {
    "execution": {
     "iopub.execute_input": "2023-12-12T02:27:32.951238Z",
     "iopub.status.busy": "2023-12-12T02:27:32.950984Z",
     "iopub.status.idle": "2023-12-12T02:27:32.955441Z",
     "shell.execute_reply": "2023-12-12T02:27:32.954652Z"
    },
    "papermill": {
     "duration": 0.015595,
     "end_time": "2023-12-12T02:27:32.956899",
     "exception": false,
     "start_time": "2023-12-12T02:27:32.941304",
     "status": "completed"
    },
    "tags": []
   },
   "outputs": [],
   "source": [
    "from sklearn.model_selection import GridSearchCV\n",
    "\n",
    "params = {\n",
    "    \"model__n_estimators\" : [100, 250, 500],\n",
    "    'model__max_depth': [5, 10, None],\n",
    "    'model__bootstrap': [True, False]\n",
    "}\n",
    "\n",
    "cv = GridSearchCV(pipe, params, cv=5, scoring=\"accuracy\", verbose=3)"
   ]
  },
  {
   "cell_type": "code",
   "execution_count": 15,
   "id": "cc1b0bf3",
   "metadata": {
    "execution": {
     "iopub.execute_input": "2023-12-12T02:27:32.975877Z",
     "iopub.status.busy": "2023-12-12T02:27:32.975629Z",
     "iopub.status.idle": "2023-12-12T02:30:28.658818Z",
     "shell.execute_reply": "2023-12-12T02:30:28.657912Z"
    },
    "papermill": {
     "duration": 175.695037,
     "end_time": "2023-12-12T02:30:28.660902",
     "exception": false,
     "start_time": "2023-12-12T02:27:32.965865",
     "status": "completed"
    },
    "tags": []
   },
   "outputs": [
    {
     "name": "stdout",
     "output_type": "stream",
     "text": [
      "Fitting 5 folds for each of 18 candidates, totalling 90 fits\n"
     ]
    },
    {
     "name": "stdout",
     "output_type": "stream",
     "text": [
      "[CV 1/5] END model__bootstrap=True, model__max_depth=5, model__n_estimators=100;, score=0.788 total time=   0.5s\n",
      "[CV 2/5] END model__bootstrap=True, model__max_depth=5, model__n_estimators=100;, score=0.772 total time=   0.4s\n",
      "[CV 3/5] END model__bootstrap=True, model__max_depth=5, model__n_estimators=100;, score=0.784 total time=   0.4s\n",
      "[CV 4/5] END model__bootstrap=True, model__max_depth=5, model__n_estimators=100;, score=0.779 total time=   0.4s\n",
      "[CV 5/5] END model__bootstrap=True, model__max_depth=5, model__n_estimators=100;, score=0.776 total time=   0.4s\n",
      "[CV 1/5] END model__bootstrap=True, model__max_depth=5, model__n_estimators=250;, score=0.786 total time=   1.2s\n",
      "[CV 2/5] END model__bootstrap=True, model__max_depth=5, model__n_estimators=250;, score=0.771 total time=   1.2s\n",
      "[CV 3/5] END model__bootstrap=True, model__max_depth=5, model__n_estimators=250;, score=0.786 total time=   1.2s\n",
      "[CV 4/5] END model__bootstrap=True, model__max_depth=5, model__n_estimators=250;, score=0.779 total time=   1.2s\n",
      "[CV 5/5] END model__bootstrap=True, model__max_depth=5, model__n_estimators=250;, score=0.775 total time=   1.1s\n",
      "[CV 1/5] END model__bootstrap=True, model__max_depth=5, model__n_estimators=500;, score=0.788 total time=   2.4s\n",
      "[CV 2/5] END model__bootstrap=True, model__max_depth=5, model__n_estimators=500;, score=0.771 total time=   2.4s\n",
      "[CV 3/5] END model__bootstrap=True, model__max_depth=5, model__n_estimators=500;, score=0.786 total time=   2.4s\n",
      "[CV 4/5] END model__bootstrap=True, model__max_depth=5, model__n_estimators=500;, score=0.779 total time=   2.5s\n",
      "[CV 5/5] END model__bootstrap=True, model__max_depth=5, model__n_estimators=500;, score=0.771 total time=   2.5s\n",
      "[CV 1/5] END model__bootstrap=True, model__max_depth=10, model__n_estimators=100;, score=0.801 total time=   0.9s\n",
      "[CV 2/5] END model__bootstrap=True, model__max_depth=10, model__n_estimators=100;, score=0.806 total time=   0.9s\n",
      "[CV 3/5] END model__bootstrap=True, model__max_depth=10, model__n_estimators=100;, score=0.803 total time=   0.8s\n",
      "[CV 4/5] END model__bootstrap=True, model__max_depth=10, model__n_estimators=100;, score=0.794 total time=   0.9s\n",
      "[CV 5/5] END model__bootstrap=True, model__max_depth=10, model__n_estimators=100;, score=0.792 total time=   0.9s\n",
      "[CV 1/5] END model__bootstrap=True, model__max_depth=10, model__n_estimators=250;, score=0.806 total time=   2.3s\n",
      "[CV 2/5] END model__bootstrap=True, model__max_depth=10, model__n_estimators=250;, score=0.799 total time=   2.4s\n",
      "[CV 3/5] END model__bootstrap=True, model__max_depth=10, model__n_estimators=250;, score=0.802 total time=   2.5s\n",
      "[CV 4/5] END model__bootstrap=True, model__max_depth=10, model__n_estimators=250;, score=0.793 total time=   2.2s\n",
      "[CV 5/5] END model__bootstrap=True, model__max_depth=10, model__n_estimators=250;, score=0.794 total time=   2.2s\n",
      "[CV 1/5] END model__bootstrap=True, model__max_depth=10, model__n_estimators=500;, score=0.804 total time=   4.4s\n",
      "[CV 2/5] END model__bootstrap=True, model__max_depth=10, model__n_estimators=500;, score=0.802 total time=   4.4s\n",
      "[CV 3/5] END model__bootstrap=True, model__max_depth=10, model__n_estimators=500;, score=0.804 total time=   4.4s\n",
      "[CV 4/5] END model__bootstrap=True, model__max_depth=10, model__n_estimators=500;, score=0.794 total time=   4.4s\n",
      "[CV 5/5] END model__bootstrap=True, model__max_depth=10, model__n_estimators=500;, score=0.796 total time=   4.4s\n",
      "[CV 1/5] END model__bootstrap=True, model__max_depth=None, model__n_estimators=100;, score=0.799 total time=   1.3s\n",
      "[CV 2/5] END model__bootstrap=True, model__max_depth=None, model__n_estimators=100;, score=0.795 total time=   1.3s\n",
      "[CV 3/5] END model__bootstrap=True, model__max_depth=None, model__n_estimators=100;, score=0.799 total time=   1.3s\n",
      "[CV 4/5] END model__bootstrap=True, model__max_depth=None, model__n_estimators=100;, score=0.779 total time=   1.3s\n",
      "[CV 5/5] END model__bootstrap=True, model__max_depth=None, model__n_estimators=100;, score=0.785 total time=   1.3s\n",
      "[CV 1/5] END model__bootstrap=True, model__max_depth=None, model__n_estimators=250;, score=0.799 total time=   3.3s\n",
      "[CV 2/5] END model__bootstrap=True, model__max_depth=None, model__n_estimators=250;, score=0.802 total time=   3.3s\n",
      "[CV 3/5] END model__bootstrap=True, model__max_depth=None, model__n_estimators=250;, score=0.796 total time=   3.4s\n",
      "[CV 4/5] END model__bootstrap=True, model__max_depth=None, model__n_estimators=250;, score=0.785 total time=   3.3s\n",
      "[CV 5/5] END model__bootstrap=True, model__max_depth=None, model__n_estimators=250;, score=0.789 total time=   3.4s\n",
      "[CV 1/5] END model__bootstrap=True, model__max_depth=None, model__n_estimators=500;, score=0.796 total time=   6.7s\n",
      "[CV 2/5] END model__bootstrap=True, model__max_depth=None, model__n_estimators=500;, score=0.800 total time=   6.7s\n",
      "[CV 3/5] END model__bootstrap=True, model__max_depth=None, model__n_estimators=500;, score=0.800 total time=   6.8s\n",
      "[CV 4/5] END model__bootstrap=True, model__max_depth=None, model__n_estimators=500;, score=0.786 total time=   7.0s\n",
      "[CV 5/5] END model__bootstrap=True, model__max_depth=None, model__n_estimators=500;, score=0.791 total time=   6.9s\n",
      "[CV 1/5] END model__bootstrap=False, model__max_depth=5, model__n_estimators=100;, score=0.788 total time=   0.5s\n",
      "[CV 2/5] END model__bootstrap=False, model__max_depth=5, model__n_estimators=100;, score=0.767 total time=   0.5s\n",
      "[CV 3/5] END model__bootstrap=False, model__max_depth=5, model__n_estimators=100;, score=0.781 total time=   0.4s\n",
      "[CV 4/5] END model__bootstrap=False, model__max_depth=5, model__n_estimators=100;, score=0.778 total time=   0.5s\n",
      "[CV 5/5] END model__bootstrap=False, model__max_depth=5, model__n_estimators=100;, score=0.776 total time=   0.4s\n",
      "[CV 1/5] END model__bootstrap=False, model__max_depth=5, model__n_estimators=250;, score=0.790 total time=   1.2s\n",
      "[CV 2/5] END model__bootstrap=False, model__max_depth=5, model__n_estimators=250;, score=0.766 total time=   1.2s\n",
      "[CV 3/5] END model__bootstrap=False, model__max_depth=5, model__n_estimators=250;, score=0.781 total time=   1.2s\n",
      "[CV 4/5] END model__bootstrap=False, model__max_depth=5, model__n_estimators=250;, score=0.779 total time=   1.2s\n",
      "[CV 5/5] END model__bootstrap=False, model__max_depth=5, model__n_estimators=250;, score=0.773 total time=   1.2s\n",
      "[CV 1/5] END model__bootstrap=False, model__max_depth=5, model__n_estimators=500;, score=0.790 total time=   2.5s\n",
      "[CV 2/5] END model__bootstrap=False, model__max_depth=5, model__n_estimators=500;, score=0.770 total time=   2.5s\n",
      "[CV 3/5] END model__bootstrap=False, model__max_depth=5, model__n_estimators=500;, score=0.782 total time=   2.6s\n",
      "[CV 4/5] END model__bootstrap=False, model__max_depth=5, model__n_estimators=500;, score=0.778 total time=   2.5s\n",
      "[CV 5/5] END model__bootstrap=False, model__max_depth=5, model__n_estimators=500;, score=0.776 total time=   2.5s\n",
      "[CV 1/5] END model__bootstrap=False, model__max_depth=10, model__n_estimators=100;, score=0.806 total time=   0.9s\n",
      "[CV 2/5] END model__bootstrap=False, model__max_depth=10, model__n_estimators=100;, score=0.802 total time=   0.9s\n",
      "[CV 3/5] END model__bootstrap=False, model__max_depth=10, model__n_estimators=100;, score=0.796 total time=   0.9s\n",
      "[CV 4/5] END model__bootstrap=False, model__max_depth=10, model__n_estimators=100;, score=0.792 total time=   0.9s\n",
      "[CV 5/5] END model__bootstrap=False, model__max_depth=10, model__n_estimators=100;, score=0.791 total time=   0.9s\n",
      "[CV 1/5] END model__bootstrap=False, model__max_depth=10, model__n_estimators=250;, score=0.805 total time=   2.3s\n",
      "[CV 2/5] END model__bootstrap=False, model__max_depth=10, model__n_estimators=250;, score=0.801 total time=   2.4s\n",
      "[CV 3/5] END model__bootstrap=False, model__max_depth=10, model__n_estimators=250;, score=0.797 total time=   2.5s\n",
      "[CV 4/5] END model__bootstrap=False, model__max_depth=10, model__n_estimators=250;, score=0.794 total time=   2.4s\n",
      "[CV 5/5] END model__bootstrap=False, model__max_depth=10, model__n_estimators=250;, score=0.796 total time=   2.5s\n",
      "[CV 1/5] END model__bootstrap=False, model__max_depth=10, model__n_estimators=500;, score=0.805 total time=   5.3s\n",
      "[CV 2/5] END model__bootstrap=False, model__max_depth=10, model__n_estimators=500;, score=0.800 total time=   5.0s\n",
      "[CV 3/5] END model__bootstrap=False, model__max_depth=10, model__n_estimators=500;, score=0.797 total time=   5.3s\n",
      "[CV 4/5] END model__bootstrap=False, model__max_depth=10, model__n_estimators=500;, score=0.794 total time=   5.1s\n",
      "[CV 5/5] END model__bootstrap=False, model__max_depth=10, model__n_estimators=500;, score=0.791 total time=   4.9s\n",
      "[CV 1/5] END model__bootstrap=False, model__max_depth=None, model__n_estimators=100;, score=0.792 total time=   1.8s\n",
      "[CV 2/5] END model__bootstrap=False, model__max_depth=None, model__n_estimators=100;, score=0.797 total time=   1.7s\n",
      "[CV 3/5] END model__bootstrap=False, model__max_depth=None, model__n_estimators=100;, score=0.792 total time=   1.8s\n",
      "[CV 4/5] END model__bootstrap=False, model__max_depth=None, model__n_estimators=100;, score=0.780 total time=   1.7s\n",
      "[CV 5/5] END model__bootstrap=False, model__max_depth=None, model__n_estimators=100;, score=0.788 total time=   1.8s\n",
      "[CV 1/5] END model__bootstrap=False, model__max_depth=None, model__n_estimators=250;, score=0.790 total time=   4.9s\n",
      "[CV 2/5] END model__bootstrap=False, model__max_depth=None, model__n_estimators=250;, score=0.801 total time=   4.1s\n",
      "[CV 3/5] END model__bootstrap=False, model__max_depth=None, model__n_estimators=250;, score=0.793 total time=   4.1s\n",
      "[CV 4/5] END model__bootstrap=False, model__max_depth=None, model__n_estimators=250;, score=0.780 total time=   4.0s\n",
      "[CV 5/5] END model__bootstrap=False, model__max_depth=None, model__n_estimators=250;, score=0.783 total time=   4.1s\n",
      "[CV 1/5] END model__bootstrap=False, model__max_depth=None, model__n_estimators=500;, score=0.794 total time=   9.5s\n",
      "[CV 2/5] END model__bootstrap=False, model__max_depth=None, model__n_estimators=500;, score=0.799 total time=   9.3s\n",
      "[CV 3/5] END model__bootstrap=False, model__max_depth=None, model__n_estimators=500;, score=0.792 total time=   8.4s\n",
      "[CV 4/5] END model__bootstrap=False, model__max_depth=None, model__n_estimators=500;, score=0.779 total time=   8.3s\n",
      "[CV 5/5] END model__bootstrap=False, model__max_depth=None, model__n_estimators=500;, score=0.791 total time=   7.9s\n"
     ]
    },
    {
     "data": {
      "text/html": [
       "<style>#sk-container-id-1 {color: black;}#sk-container-id-1 pre{padding: 0;}#sk-container-id-1 div.sk-toggleable {background-color: white;}#sk-container-id-1 label.sk-toggleable__label {cursor: pointer;display: block;width: 100%;margin-bottom: 0;padding: 0.3em;box-sizing: border-box;text-align: center;}#sk-container-id-1 label.sk-toggleable__label-arrow:before {content: \"▸\";float: left;margin-right: 0.25em;color: #696969;}#sk-container-id-1 label.sk-toggleable__label-arrow:hover:before {color: black;}#sk-container-id-1 div.sk-estimator:hover label.sk-toggleable__label-arrow:before {color: black;}#sk-container-id-1 div.sk-toggleable__content {max-height: 0;max-width: 0;overflow: hidden;text-align: left;background-color: #f0f8ff;}#sk-container-id-1 div.sk-toggleable__content pre {margin: 0.2em;color: black;border-radius: 0.25em;background-color: #f0f8ff;}#sk-container-id-1 input.sk-toggleable__control:checked~div.sk-toggleable__content {max-height: 200px;max-width: 100%;overflow: auto;}#sk-container-id-1 input.sk-toggleable__control:checked~label.sk-toggleable__label-arrow:before {content: \"▾\";}#sk-container-id-1 div.sk-estimator input.sk-toggleable__control:checked~label.sk-toggleable__label {background-color: #d4ebff;}#sk-container-id-1 div.sk-label input.sk-toggleable__control:checked~label.sk-toggleable__label {background-color: #d4ebff;}#sk-container-id-1 input.sk-hidden--visually {border: 0;clip: rect(1px 1px 1px 1px);clip: rect(1px, 1px, 1px, 1px);height: 1px;margin: -1px;overflow: hidden;padding: 0;position: absolute;width: 1px;}#sk-container-id-1 div.sk-estimator {font-family: monospace;background-color: #f0f8ff;border: 1px dotted black;border-radius: 0.25em;box-sizing: border-box;margin-bottom: 0.5em;}#sk-container-id-1 div.sk-estimator:hover {background-color: #d4ebff;}#sk-container-id-1 div.sk-parallel-item::after {content: \"\";width: 100%;border-bottom: 1px solid gray;flex-grow: 1;}#sk-container-id-1 div.sk-label:hover label.sk-toggleable__label {background-color: #d4ebff;}#sk-container-id-1 div.sk-serial::before {content: \"\";position: absolute;border-left: 1px solid gray;box-sizing: border-box;top: 0;bottom: 0;left: 50%;z-index: 0;}#sk-container-id-1 div.sk-serial {display: flex;flex-direction: column;align-items: center;background-color: white;padding-right: 0.2em;padding-left: 0.2em;position: relative;}#sk-container-id-1 div.sk-item {position: relative;z-index: 1;}#sk-container-id-1 div.sk-parallel {display: flex;align-items: stretch;justify-content: center;background-color: white;position: relative;}#sk-container-id-1 div.sk-item::before, #sk-container-id-1 div.sk-parallel-item::before {content: \"\";position: absolute;border-left: 1px solid gray;box-sizing: border-box;top: 0;bottom: 0;left: 50%;z-index: -1;}#sk-container-id-1 div.sk-parallel-item {display: flex;flex-direction: column;z-index: 1;position: relative;background-color: white;}#sk-container-id-1 div.sk-parallel-item:first-child::after {align-self: flex-end;width: 50%;}#sk-container-id-1 div.sk-parallel-item:last-child::after {align-self: flex-start;width: 50%;}#sk-container-id-1 div.sk-parallel-item:only-child::after {width: 0;}#sk-container-id-1 div.sk-dashed-wrapped {border: 1px dashed gray;margin: 0 0.4em 0.5em 0.4em;box-sizing: border-box;padding-bottom: 0.4em;background-color: white;}#sk-container-id-1 div.sk-label label {font-family: monospace;font-weight: bold;display: inline-block;line-height: 1.2em;}#sk-container-id-1 div.sk-label-container {text-align: center;}#sk-container-id-1 div.sk-container {/* jupyter's `normalize.less` sets `[hidden] { display: none; }` but bootstrap.min.css set `[hidden] { display: none !important; }` so we also need the `!important` here to be able to override the default hidden behavior on the sphinx rendered scikit-learn.org. See: https://github.com/scikit-learn/scikit-learn/issues/21755 */display: inline-block !important;position: relative;}#sk-container-id-1 div.sk-text-repr-fallback {display: none;}</style><div id=\"sk-container-id-1\" class=\"sk-top-container\"><div class=\"sk-text-repr-fallback\"><pre>GridSearchCV(cv=5,\n",
       "             estimator=Pipeline(steps=[(&#x27;preprocessor&#x27;,\n",
       "                                        ColumnTransformer(transformers=[(&#x27;num&#x27;,\n",
       "                                                                         SimpleImputer(),\n",
       "                                                                         Index([&#x27;Age&#x27;, &#x27;RoomService&#x27;, &#x27;FoodCourt&#x27;, &#x27;ShoppingMall&#x27;, &#x27;Spa&#x27;, &#x27;VRDeck&#x27;], dtype=&#x27;object&#x27;)),\n",
       "                                                                        (&#x27;cat&#x27;,\n",
       "                                                                         Pipeline(steps=[(&#x27;imputer&#x27;,\n",
       "                                                                                          SimpleImputer(strategy=&#x27;most_frequent&#x27;)),\n",
       "                                                                                         (&#x27;ordinal&#x27;,\n",
       "                                                                                          OrdinalEncoder(handle_unknown=&#x27;use_encoded_value&#x27;,\n",
       "                                                                                                         unknown_value=-1))]),\n",
       "                                                                         Index([&#x27;HomePlanet&#x27;, &#x27;CryoSleep&#x27;, &#x27;Destination&#x27;, &#x27;VIP&#x27;, &#x27;CabinDeck&#x27;,\n",
       "       &#x27;CabinNumber&#x27;, &#x27;CabinSide&#x27;],\n",
       "      dtype=&#x27;object&#x27;))])),\n",
       "                                       (&#x27;model&#x27;,\n",
       "                                        RandomForestClassifier(random_state=1))]),\n",
       "             param_grid={&#x27;model__bootstrap&#x27;: [True, False],\n",
       "                         &#x27;model__max_depth&#x27;: [5, 10, None],\n",
       "                         &#x27;model__n_estimators&#x27;: [100, 250, 500]},\n",
       "             scoring=&#x27;accuracy&#x27;, verbose=3)</pre><b>In a Jupyter environment, please rerun this cell to show the HTML representation or trust the notebook. <br />On GitHub, the HTML representation is unable to render, please try loading this page with nbviewer.org.</b></div><div class=\"sk-container\" hidden><div class=\"sk-item sk-dashed-wrapped\"><div class=\"sk-label-container\"><div class=\"sk-label sk-toggleable\"><input class=\"sk-toggleable__control sk-hidden--visually\" id=\"sk-estimator-id-1\" type=\"checkbox\" ><label for=\"sk-estimator-id-1\" class=\"sk-toggleable__label sk-toggleable__label-arrow\">GridSearchCV</label><div class=\"sk-toggleable__content\"><pre>GridSearchCV(cv=5,\n",
       "             estimator=Pipeline(steps=[(&#x27;preprocessor&#x27;,\n",
       "                                        ColumnTransformer(transformers=[(&#x27;num&#x27;,\n",
       "                                                                         SimpleImputer(),\n",
       "                                                                         Index([&#x27;Age&#x27;, &#x27;RoomService&#x27;, &#x27;FoodCourt&#x27;, &#x27;ShoppingMall&#x27;, &#x27;Spa&#x27;, &#x27;VRDeck&#x27;], dtype=&#x27;object&#x27;)),\n",
       "                                                                        (&#x27;cat&#x27;,\n",
       "                                                                         Pipeline(steps=[(&#x27;imputer&#x27;,\n",
       "                                                                                          SimpleImputer(strategy=&#x27;most_frequent&#x27;)),\n",
       "                                                                                         (&#x27;ordinal&#x27;,\n",
       "                                                                                          OrdinalEncoder(handle_unknown=&#x27;use_encoded_value&#x27;,\n",
       "                                                                                                         unknown_value=-1))]),\n",
       "                                                                         Index([&#x27;HomePlanet&#x27;, &#x27;CryoSleep&#x27;, &#x27;Destination&#x27;, &#x27;VIP&#x27;, &#x27;CabinDeck&#x27;,\n",
       "       &#x27;CabinNumber&#x27;, &#x27;CabinSide&#x27;],\n",
       "      dtype=&#x27;object&#x27;))])),\n",
       "                                       (&#x27;model&#x27;,\n",
       "                                        RandomForestClassifier(random_state=1))]),\n",
       "             param_grid={&#x27;model__bootstrap&#x27;: [True, False],\n",
       "                         &#x27;model__max_depth&#x27;: [5, 10, None],\n",
       "                         &#x27;model__n_estimators&#x27;: [100, 250, 500]},\n",
       "             scoring=&#x27;accuracy&#x27;, verbose=3)</pre></div></div></div><div class=\"sk-parallel\"><div class=\"sk-parallel-item\"><div class=\"sk-item\"><div class=\"sk-label-container\"><div class=\"sk-label sk-toggleable\"><input class=\"sk-toggleable__control sk-hidden--visually\" id=\"sk-estimator-id-2\" type=\"checkbox\" ><label for=\"sk-estimator-id-2\" class=\"sk-toggleable__label sk-toggleable__label-arrow\">estimator: Pipeline</label><div class=\"sk-toggleable__content\"><pre>Pipeline(steps=[(&#x27;preprocessor&#x27;,\n",
       "                 ColumnTransformer(transformers=[(&#x27;num&#x27;, SimpleImputer(),\n",
       "                                                  Index([&#x27;Age&#x27;, &#x27;RoomService&#x27;, &#x27;FoodCourt&#x27;, &#x27;ShoppingMall&#x27;, &#x27;Spa&#x27;, &#x27;VRDeck&#x27;], dtype=&#x27;object&#x27;)),\n",
       "                                                 (&#x27;cat&#x27;,\n",
       "                                                  Pipeline(steps=[(&#x27;imputer&#x27;,\n",
       "                                                                   SimpleImputer(strategy=&#x27;most_frequent&#x27;)),\n",
       "                                                                  (&#x27;ordinal&#x27;,\n",
       "                                                                   OrdinalEncoder(handle_unknown=&#x27;use_encoded_value&#x27;,\n",
       "                                                                                  unknown_value=-1))]),\n",
       "                                                  Index([&#x27;HomePlanet&#x27;, &#x27;CryoSleep&#x27;, &#x27;Destination&#x27;, &#x27;VIP&#x27;, &#x27;CabinDeck&#x27;,\n",
       "       &#x27;CabinNumber&#x27;, &#x27;CabinSide&#x27;],\n",
       "      dtype=&#x27;object&#x27;))])),\n",
       "                (&#x27;model&#x27;, RandomForestClassifier(random_state=1))])</pre></div></div></div><div class=\"sk-serial\"><div class=\"sk-item\"><div class=\"sk-serial\"><div class=\"sk-item sk-dashed-wrapped\"><div class=\"sk-label-container\"><div class=\"sk-label sk-toggleable\"><input class=\"sk-toggleable__control sk-hidden--visually\" id=\"sk-estimator-id-3\" type=\"checkbox\" ><label for=\"sk-estimator-id-3\" class=\"sk-toggleable__label sk-toggleable__label-arrow\">preprocessor: ColumnTransformer</label><div class=\"sk-toggleable__content\"><pre>ColumnTransformer(transformers=[(&#x27;num&#x27;, SimpleImputer(),\n",
       "                                 Index([&#x27;Age&#x27;, &#x27;RoomService&#x27;, &#x27;FoodCourt&#x27;, &#x27;ShoppingMall&#x27;, &#x27;Spa&#x27;, &#x27;VRDeck&#x27;], dtype=&#x27;object&#x27;)),\n",
       "                                (&#x27;cat&#x27;,\n",
       "                                 Pipeline(steps=[(&#x27;imputer&#x27;,\n",
       "                                                  SimpleImputer(strategy=&#x27;most_frequent&#x27;)),\n",
       "                                                 (&#x27;ordinal&#x27;,\n",
       "                                                  OrdinalEncoder(handle_unknown=&#x27;use_encoded_value&#x27;,\n",
       "                                                                 unknown_value=-1))]),\n",
       "                                 Index([&#x27;HomePlanet&#x27;, &#x27;CryoSleep&#x27;, &#x27;Destination&#x27;, &#x27;VIP&#x27;, &#x27;CabinDeck&#x27;,\n",
       "       &#x27;CabinNumber&#x27;, &#x27;CabinSide&#x27;],\n",
       "      dtype=&#x27;object&#x27;))])</pre></div></div></div><div class=\"sk-parallel\"><div class=\"sk-parallel-item\"><div class=\"sk-item\"><div class=\"sk-label-container\"><div class=\"sk-label sk-toggleable\"><input class=\"sk-toggleable__control sk-hidden--visually\" id=\"sk-estimator-id-4\" type=\"checkbox\" ><label for=\"sk-estimator-id-4\" class=\"sk-toggleable__label sk-toggleable__label-arrow\">num</label><div class=\"sk-toggleable__content\"><pre>Index([&#x27;Age&#x27;, &#x27;RoomService&#x27;, &#x27;FoodCourt&#x27;, &#x27;ShoppingMall&#x27;, &#x27;Spa&#x27;, &#x27;VRDeck&#x27;], dtype=&#x27;object&#x27;)</pre></div></div></div><div class=\"sk-serial\"><div class=\"sk-item\"><div class=\"sk-estimator sk-toggleable\"><input class=\"sk-toggleable__control sk-hidden--visually\" id=\"sk-estimator-id-5\" type=\"checkbox\" ><label for=\"sk-estimator-id-5\" class=\"sk-toggleable__label sk-toggleable__label-arrow\">SimpleImputer</label><div class=\"sk-toggleable__content\"><pre>SimpleImputer()</pre></div></div></div></div></div></div><div class=\"sk-parallel-item\"><div class=\"sk-item\"><div class=\"sk-label-container\"><div class=\"sk-label sk-toggleable\"><input class=\"sk-toggleable__control sk-hidden--visually\" id=\"sk-estimator-id-6\" type=\"checkbox\" ><label for=\"sk-estimator-id-6\" class=\"sk-toggleable__label sk-toggleable__label-arrow\">cat</label><div class=\"sk-toggleable__content\"><pre>Index([&#x27;HomePlanet&#x27;, &#x27;CryoSleep&#x27;, &#x27;Destination&#x27;, &#x27;VIP&#x27;, &#x27;CabinDeck&#x27;,\n",
       "       &#x27;CabinNumber&#x27;, &#x27;CabinSide&#x27;],\n",
       "      dtype=&#x27;object&#x27;)</pre></div></div></div><div class=\"sk-serial\"><div class=\"sk-item\"><div class=\"sk-serial\"><div class=\"sk-item\"><div class=\"sk-estimator sk-toggleable\"><input class=\"sk-toggleable__control sk-hidden--visually\" id=\"sk-estimator-id-7\" type=\"checkbox\" ><label for=\"sk-estimator-id-7\" class=\"sk-toggleable__label sk-toggleable__label-arrow\">SimpleImputer</label><div class=\"sk-toggleable__content\"><pre>SimpleImputer(strategy=&#x27;most_frequent&#x27;)</pre></div></div></div><div class=\"sk-item\"><div class=\"sk-estimator sk-toggleable\"><input class=\"sk-toggleable__control sk-hidden--visually\" id=\"sk-estimator-id-8\" type=\"checkbox\" ><label for=\"sk-estimator-id-8\" class=\"sk-toggleable__label sk-toggleable__label-arrow\">OrdinalEncoder</label><div class=\"sk-toggleable__content\"><pre>OrdinalEncoder(handle_unknown=&#x27;use_encoded_value&#x27;, unknown_value=-1)</pre></div></div></div></div></div></div></div></div></div></div><div class=\"sk-item\"><div class=\"sk-estimator sk-toggleable\"><input class=\"sk-toggleable__control sk-hidden--visually\" id=\"sk-estimator-id-9\" type=\"checkbox\" ><label for=\"sk-estimator-id-9\" class=\"sk-toggleable__label sk-toggleable__label-arrow\">RandomForestClassifier</label><div class=\"sk-toggleable__content\"><pre>RandomForestClassifier(random_state=1)</pre></div></div></div></div></div></div></div></div></div></div></div></div>"
      ],
      "text/plain": [
       "GridSearchCV(cv=5,\n",
       "             estimator=Pipeline(steps=[('preprocessor',\n",
       "                                        ColumnTransformer(transformers=[('num',\n",
       "                                                                         SimpleImputer(),\n",
       "                                                                         Index(['Age', 'RoomService', 'FoodCourt', 'ShoppingMall', 'Spa', 'VRDeck'], dtype='object')),\n",
       "                                                                        ('cat',\n",
       "                                                                         Pipeline(steps=[('imputer',\n",
       "                                                                                          SimpleImputer(strategy='most_frequent')),\n",
       "                                                                                         ('ordinal',\n",
       "                                                                                          OrdinalEncoder(handle_unknown='use_encoded_value',\n",
       "                                                                                                         unknown_value=-1))]),\n",
       "                                                                         Index(['HomePlanet', 'CryoSleep', 'Destination', 'VIP', 'CabinDeck',\n",
       "       'CabinNumber', 'CabinSide'],\n",
       "      dtype='object'))])),\n",
       "                                       ('model',\n",
       "                                        RandomForestClassifier(random_state=1))]),\n",
       "             param_grid={'model__bootstrap': [True, False],\n",
       "                         'model__max_depth': [5, 10, None],\n",
       "                         'model__n_estimators': [100, 250, 500]},\n",
       "             scoring='accuracy', verbose=3)"
      ]
     },
     "execution_count": 15,
     "metadata": {},
     "output_type": "execute_result"
    }
   ],
   "source": [
    "cv.fit(X_train, y_train)"
   ]
  },
  {
   "cell_type": "code",
   "execution_count": 16,
   "id": "0b6de7b0",
   "metadata": {
    "execution": {
     "iopub.execute_input": "2023-12-12T02:30:28.692063Z",
     "iopub.status.busy": "2023-12-12T02:30:28.691752Z",
     "iopub.status.idle": "2023-12-12T02:30:28.711027Z",
     "shell.execute_reply": "2023-12-12T02:30:28.710323Z"
    },
    "papermill": {
     "duration": 0.036221,
     "end_time": "2023-12-12T02:30:28.712696",
     "exception": false,
     "start_time": "2023-12-12T02:30:28.676475",
     "status": "completed"
    },
    "tags": []
   },
   "outputs": [
    {
     "data": {
      "text/html": [
       "<div>\n",
       "<style scoped>\n",
       "    .dataframe tbody tr th:only-of-type {\n",
       "        vertical-align: middle;\n",
       "    }\n",
       "\n",
       "    .dataframe tbody tr th {\n",
       "        vertical-align: top;\n",
       "    }\n",
       "\n",
       "    .dataframe thead th {\n",
       "        text-align: right;\n",
       "    }\n",
       "</style>\n",
       "<table border=\"1\" class=\"dataframe\">\n",
       "  <thead>\n",
       "    <tr style=\"text-align: right;\">\n",
       "      <th></th>\n",
       "      <th>mean_fit_time</th>\n",
       "      <th>std_fit_time</th>\n",
       "      <th>mean_score_time</th>\n",
       "      <th>std_score_time</th>\n",
       "      <th>param_model__bootstrap</th>\n",
       "      <th>param_model__max_depth</th>\n",
       "      <th>param_model__n_estimators</th>\n",
       "      <th>params</th>\n",
       "      <th>split0_test_score</th>\n",
       "      <th>split1_test_score</th>\n",
       "      <th>split2_test_score</th>\n",
       "      <th>split3_test_score</th>\n",
       "      <th>split4_test_score</th>\n",
       "      <th>mean_test_score</th>\n",
       "      <th>std_test_score</th>\n",
       "      <th>rank_test_score</th>\n",
       "    </tr>\n",
       "  </thead>\n",
       "  <tbody>\n",
       "    <tr>\n",
       "      <th>5</th>\n",
       "      <td>4.410749</td>\n",
       "      <td>0.014671</td>\n",
       "      <td>0.110751</td>\n",
       "      <td>0.003239</td>\n",
       "      <td>True</td>\n",
       "      <td>10</td>\n",
       "      <td>500</td>\n",
       "      <td>{'model__bootstrap': True, 'model__max_depth':...</td>\n",
       "      <td>0.803738</td>\n",
       "      <td>0.801582</td>\n",
       "      <td>0.803738</td>\n",
       "      <td>0.793674</td>\n",
       "      <td>0.795683</td>\n",
       "      <td>0.799683</td>\n",
       "      <td>0.004210</td>\n",
       "      <td>1</td>\n",
       "    </tr>\n",
       "    <tr>\n",
       "      <th>3</th>\n",
       "      <td>0.938248</td>\n",
       "      <td>0.012253</td>\n",
       "      <td>0.029218</td>\n",
       "      <td>0.001461</td>\n",
       "      <td>True</td>\n",
       "      <td>10</td>\n",
       "      <td>100</td>\n",
       "      <td>{'model__bootstrap': True, 'model__max_depth':...</td>\n",
       "      <td>0.800863</td>\n",
       "      <td>0.805895</td>\n",
       "      <td>0.803019</td>\n",
       "      <td>0.793674</td>\n",
       "      <td>0.792086</td>\n",
       "      <td>0.799107</td>\n",
       "      <td>0.005353</td>\n",
       "      <td>2</td>\n",
       "    </tr>\n",
       "    <tr>\n",
       "      <th>13</th>\n",
       "      <td>2.471183</td>\n",
       "      <td>0.072726</td>\n",
       "      <td>0.058394</td>\n",
       "      <td>0.002734</td>\n",
       "      <td>False</td>\n",
       "      <td>10</td>\n",
       "      <td>250</td>\n",
       "      <td>{'model__bootstrap': False, 'model__max_depth'...</td>\n",
       "      <td>0.805176</td>\n",
       "      <td>0.800863</td>\n",
       "      <td>0.797268</td>\n",
       "      <td>0.794393</td>\n",
       "      <td>0.796403</td>\n",
       "      <td>0.798820</td>\n",
       "      <td>0.003806</td>\n",
       "      <td>3</td>\n",
       "    </tr>\n",
       "    <tr>\n",
       "      <th>4</th>\n",
       "      <td>2.355217</td>\n",
       "      <td>0.131436</td>\n",
       "      <td>0.061687</td>\n",
       "      <td>0.003784</td>\n",
       "      <td>True</td>\n",
       "      <td>10</td>\n",
       "      <td>250</td>\n",
       "      <td>{'model__bootstrap': True, 'model__max_depth':...</td>\n",
       "      <td>0.805895</td>\n",
       "      <td>0.798706</td>\n",
       "      <td>0.802301</td>\n",
       "      <td>0.792955</td>\n",
       "      <td>0.793525</td>\n",
       "      <td>0.798676</td>\n",
       "      <td>0.004990</td>\n",
       "      <td>4</td>\n",
       "    </tr>\n",
       "    <tr>\n",
       "      <th>12</th>\n",
       "      <td>0.979296</td>\n",
       "      <td>0.018809</td>\n",
       "      <td>0.028175</td>\n",
       "      <td>0.001187</td>\n",
       "      <td>False</td>\n",
       "      <td>10</td>\n",
       "      <td>100</td>\n",
       "      <td>{'model__bootstrap': False, 'model__max_depth'...</td>\n",
       "      <td>0.805895</td>\n",
       "      <td>0.801582</td>\n",
       "      <td>0.795830</td>\n",
       "      <td>0.792236</td>\n",
       "      <td>0.791367</td>\n",
       "      <td>0.797382</td>\n",
       "      <td>0.005571</td>\n",
       "      <td>5</td>\n",
       "    </tr>\n",
       "  </tbody>\n",
       "</table>\n",
       "</div>"
      ],
      "text/plain": [
       "    mean_fit_time  std_fit_time  mean_score_time  std_score_time  \\\n",
       "5        4.410749      0.014671         0.110751        0.003239   \n",
       "3        0.938248      0.012253         0.029218        0.001461   \n",
       "13       2.471183      0.072726         0.058394        0.002734   \n",
       "4        2.355217      0.131436         0.061687        0.003784   \n",
       "12       0.979296      0.018809         0.028175        0.001187   \n",
       "\n",
       "   param_model__bootstrap param_model__max_depth param_model__n_estimators  \\\n",
       "5                    True                     10                       500   \n",
       "3                    True                     10                       100   \n",
       "13                  False                     10                       250   \n",
       "4                    True                     10                       250   \n",
       "12                  False                     10                       100   \n",
       "\n",
       "                                               params  split0_test_score  \\\n",
       "5   {'model__bootstrap': True, 'model__max_depth':...           0.803738   \n",
       "3   {'model__bootstrap': True, 'model__max_depth':...           0.800863   \n",
       "13  {'model__bootstrap': False, 'model__max_depth'...           0.805176   \n",
       "4   {'model__bootstrap': True, 'model__max_depth':...           0.805895   \n",
       "12  {'model__bootstrap': False, 'model__max_depth'...           0.805895   \n",
       "\n",
       "    split1_test_score  split2_test_score  split3_test_score  \\\n",
       "5            0.801582           0.803738           0.793674   \n",
       "3            0.805895           0.803019           0.793674   \n",
       "13           0.800863           0.797268           0.794393   \n",
       "4            0.798706           0.802301           0.792955   \n",
       "12           0.801582           0.795830           0.792236   \n",
       "\n",
       "    split4_test_score  mean_test_score  std_test_score  rank_test_score  \n",
       "5            0.795683         0.799683        0.004210                1  \n",
       "3            0.792086         0.799107        0.005353                2  \n",
       "13           0.796403         0.798820        0.003806                3  \n",
       "4            0.793525         0.798676        0.004990                4  \n",
       "12           0.791367         0.797382        0.005571                5  "
      ]
     },
     "execution_count": 16,
     "metadata": {},
     "output_type": "execute_result"
    }
   ],
   "source": [
    "results = pd.DataFrame(cv.cv_results_).sort_values(\"rank_test_score\").head()\n",
    "results"
   ]
  },
  {
   "cell_type": "markdown",
   "id": "a5849393",
   "metadata": {
    "papermill": {
     "duration": 0.014431,
     "end_time": "2023-12-12T02:30:28.741788",
     "exception": false,
     "start_time": "2023-12-12T02:30:28.727357",
     "status": "completed"
    },
    "tags": []
   },
   "source": [
    "Since the time difference between the first and second models is almost 3 seconds and the mean score difference is low (~0.05%), we'll choose the second model's parameters to predict the final data."
   ]
  },
  {
   "cell_type": "markdown",
   "id": "cb146fa1",
   "metadata": {
    "papermill": {
     "duration": 0.014368,
     "end_time": "2023-12-12T02:30:28.770860",
     "exception": false,
     "start_time": "2023-12-12T02:30:28.756492",
     "status": "completed"
    },
    "tags": []
   },
   "source": [
    "# Final Model"
   ]
  },
  {
   "cell_type": "code",
   "execution_count": 17,
   "id": "8142130f",
   "metadata": {
    "execution": {
     "iopub.execute_input": "2023-12-12T02:30:28.801291Z",
     "iopub.status.busy": "2023-12-12T02:30:28.800662Z",
     "iopub.status.idle": "2023-12-12T02:30:28.805881Z",
     "shell.execute_reply": "2023-12-12T02:30:28.805132Z"
    },
    "papermill": {
     "duration": 0.022,
     "end_time": "2023-12-12T02:30:28.807359",
     "exception": false,
     "start_time": "2023-12-12T02:30:28.785359",
     "status": "completed"
    },
    "tags": []
   },
   "outputs": [],
   "source": [
    "final_params = results[results[\"rank_test_score\"] == 2].params[3]\n",
    "\n",
    "finalModel = RandomForestClassifier(\n",
    "    random_state=1,\n",
    "    bootstrap=final_params['model__bootstrap'],\n",
    "    max_depth=final_params['model__max_depth'],\n",
    "    n_estimators=final_params['model__n_estimators']\n",
    ")\n",
    "\n",
    "final_pipe = Pipeline(steps=[('preprocessor', preprocessor), ('model', finalModel)])"
   ]
  },
  {
   "cell_type": "code",
   "execution_count": 18,
   "id": "bbbe6ba7",
   "metadata": {
    "execution": {
     "iopub.execute_input": "2023-12-12T02:30:28.837615Z",
     "iopub.status.busy": "2023-12-12T02:30:28.837185Z",
     "iopub.status.idle": "2023-12-12T02:30:29.596860Z",
     "shell.execute_reply": "2023-12-12T02:30:29.596014Z"
    },
    "papermill": {
     "duration": 0.777297,
     "end_time": "2023-12-12T02:30:29.599141",
     "exception": false,
     "start_time": "2023-12-12T02:30:28.821844",
     "status": "completed"
    },
    "tags": []
   },
   "outputs": [
    {
     "data": {
      "text/html": [
       "<style>#sk-container-id-2 {color: black;}#sk-container-id-2 pre{padding: 0;}#sk-container-id-2 div.sk-toggleable {background-color: white;}#sk-container-id-2 label.sk-toggleable__label {cursor: pointer;display: block;width: 100%;margin-bottom: 0;padding: 0.3em;box-sizing: border-box;text-align: center;}#sk-container-id-2 label.sk-toggleable__label-arrow:before {content: \"▸\";float: left;margin-right: 0.25em;color: #696969;}#sk-container-id-2 label.sk-toggleable__label-arrow:hover:before {color: black;}#sk-container-id-2 div.sk-estimator:hover label.sk-toggleable__label-arrow:before {color: black;}#sk-container-id-2 div.sk-toggleable__content {max-height: 0;max-width: 0;overflow: hidden;text-align: left;background-color: #f0f8ff;}#sk-container-id-2 div.sk-toggleable__content pre {margin: 0.2em;color: black;border-radius: 0.25em;background-color: #f0f8ff;}#sk-container-id-2 input.sk-toggleable__control:checked~div.sk-toggleable__content {max-height: 200px;max-width: 100%;overflow: auto;}#sk-container-id-2 input.sk-toggleable__control:checked~label.sk-toggleable__label-arrow:before {content: \"▾\";}#sk-container-id-2 div.sk-estimator input.sk-toggleable__control:checked~label.sk-toggleable__label {background-color: #d4ebff;}#sk-container-id-2 div.sk-label input.sk-toggleable__control:checked~label.sk-toggleable__label {background-color: #d4ebff;}#sk-container-id-2 input.sk-hidden--visually {border: 0;clip: rect(1px 1px 1px 1px);clip: rect(1px, 1px, 1px, 1px);height: 1px;margin: -1px;overflow: hidden;padding: 0;position: absolute;width: 1px;}#sk-container-id-2 div.sk-estimator {font-family: monospace;background-color: #f0f8ff;border: 1px dotted black;border-radius: 0.25em;box-sizing: border-box;margin-bottom: 0.5em;}#sk-container-id-2 div.sk-estimator:hover {background-color: #d4ebff;}#sk-container-id-2 div.sk-parallel-item::after {content: \"\";width: 100%;border-bottom: 1px solid gray;flex-grow: 1;}#sk-container-id-2 div.sk-label:hover label.sk-toggleable__label {background-color: #d4ebff;}#sk-container-id-2 div.sk-serial::before {content: \"\";position: absolute;border-left: 1px solid gray;box-sizing: border-box;top: 0;bottom: 0;left: 50%;z-index: 0;}#sk-container-id-2 div.sk-serial {display: flex;flex-direction: column;align-items: center;background-color: white;padding-right: 0.2em;padding-left: 0.2em;position: relative;}#sk-container-id-2 div.sk-item {position: relative;z-index: 1;}#sk-container-id-2 div.sk-parallel {display: flex;align-items: stretch;justify-content: center;background-color: white;position: relative;}#sk-container-id-2 div.sk-item::before, #sk-container-id-2 div.sk-parallel-item::before {content: \"\";position: absolute;border-left: 1px solid gray;box-sizing: border-box;top: 0;bottom: 0;left: 50%;z-index: -1;}#sk-container-id-2 div.sk-parallel-item {display: flex;flex-direction: column;z-index: 1;position: relative;background-color: white;}#sk-container-id-2 div.sk-parallel-item:first-child::after {align-self: flex-end;width: 50%;}#sk-container-id-2 div.sk-parallel-item:last-child::after {align-self: flex-start;width: 50%;}#sk-container-id-2 div.sk-parallel-item:only-child::after {width: 0;}#sk-container-id-2 div.sk-dashed-wrapped {border: 1px dashed gray;margin: 0 0.4em 0.5em 0.4em;box-sizing: border-box;padding-bottom: 0.4em;background-color: white;}#sk-container-id-2 div.sk-label label {font-family: monospace;font-weight: bold;display: inline-block;line-height: 1.2em;}#sk-container-id-2 div.sk-label-container {text-align: center;}#sk-container-id-2 div.sk-container {/* jupyter's `normalize.less` sets `[hidden] { display: none; }` but bootstrap.min.css set `[hidden] { display: none !important; }` so we also need the `!important` here to be able to override the default hidden behavior on the sphinx rendered scikit-learn.org. See: https://github.com/scikit-learn/scikit-learn/issues/21755 */display: inline-block !important;position: relative;}#sk-container-id-2 div.sk-text-repr-fallback {display: none;}</style><div id=\"sk-container-id-2\" class=\"sk-top-container\"><div class=\"sk-text-repr-fallback\"><pre>Pipeline(steps=[(&#x27;preprocessor&#x27;,\n",
       "                 ColumnTransformer(transformers=[(&#x27;num&#x27;, SimpleImputer(),\n",
       "                                                  Index([&#x27;Age&#x27;, &#x27;RoomService&#x27;, &#x27;FoodCourt&#x27;, &#x27;ShoppingMall&#x27;, &#x27;Spa&#x27;, &#x27;VRDeck&#x27;], dtype=&#x27;object&#x27;)),\n",
       "                                                 (&#x27;cat&#x27;,\n",
       "                                                  Pipeline(steps=[(&#x27;imputer&#x27;,\n",
       "                                                                   SimpleImputer(strategy=&#x27;most_frequent&#x27;)),\n",
       "                                                                  (&#x27;ordinal&#x27;,\n",
       "                                                                   OrdinalEncoder(handle_unknown=&#x27;use_encoded_value&#x27;,\n",
       "                                                                                  unknown_value=-1))]),\n",
       "                                                  Index([&#x27;HomePlanet&#x27;, &#x27;CryoSleep&#x27;, &#x27;Destination&#x27;, &#x27;VIP&#x27;, &#x27;CabinDeck&#x27;,\n",
       "       &#x27;CabinNumber&#x27;, &#x27;CabinSide&#x27;],\n",
       "      dtype=&#x27;object&#x27;))])),\n",
       "                (&#x27;model&#x27;,\n",
       "                 RandomForestClassifier(max_depth=10, random_state=1))])</pre><b>In a Jupyter environment, please rerun this cell to show the HTML representation or trust the notebook. <br />On GitHub, the HTML representation is unable to render, please try loading this page with nbviewer.org.</b></div><div class=\"sk-container\" hidden><div class=\"sk-item sk-dashed-wrapped\"><div class=\"sk-label-container\"><div class=\"sk-label sk-toggleable\"><input class=\"sk-toggleable__control sk-hidden--visually\" id=\"sk-estimator-id-10\" type=\"checkbox\" ><label for=\"sk-estimator-id-10\" class=\"sk-toggleable__label sk-toggleable__label-arrow\">Pipeline</label><div class=\"sk-toggleable__content\"><pre>Pipeline(steps=[(&#x27;preprocessor&#x27;,\n",
       "                 ColumnTransformer(transformers=[(&#x27;num&#x27;, SimpleImputer(),\n",
       "                                                  Index([&#x27;Age&#x27;, &#x27;RoomService&#x27;, &#x27;FoodCourt&#x27;, &#x27;ShoppingMall&#x27;, &#x27;Spa&#x27;, &#x27;VRDeck&#x27;], dtype=&#x27;object&#x27;)),\n",
       "                                                 (&#x27;cat&#x27;,\n",
       "                                                  Pipeline(steps=[(&#x27;imputer&#x27;,\n",
       "                                                                   SimpleImputer(strategy=&#x27;most_frequent&#x27;)),\n",
       "                                                                  (&#x27;ordinal&#x27;,\n",
       "                                                                   OrdinalEncoder(handle_unknown=&#x27;use_encoded_value&#x27;,\n",
       "                                                                                  unknown_value=-1))]),\n",
       "                                                  Index([&#x27;HomePlanet&#x27;, &#x27;CryoSleep&#x27;, &#x27;Destination&#x27;, &#x27;VIP&#x27;, &#x27;CabinDeck&#x27;,\n",
       "       &#x27;CabinNumber&#x27;, &#x27;CabinSide&#x27;],\n",
       "      dtype=&#x27;object&#x27;))])),\n",
       "                (&#x27;model&#x27;,\n",
       "                 RandomForestClassifier(max_depth=10, random_state=1))])</pre></div></div></div><div class=\"sk-serial\"><div class=\"sk-item sk-dashed-wrapped\"><div class=\"sk-label-container\"><div class=\"sk-label sk-toggleable\"><input class=\"sk-toggleable__control sk-hidden--visually\" id=\"sk-estimator-id-11\" type=\"checkbox\" ><label for=\"sk-estimator-id-11\" class=\"sk-toggleable__label sk-toggleable__label-arrow\">preprocessor: ColumnTransformer</label><div class=\"sk-toggleable__content\"><pre>ColumnTransformer(transformers=[(&#x27;num&#x27;, SimpleImputer(),\n",
       "                                 Index([&#x27;Age&#x27;, &#x27;RoomService&#x27;, &#x27;FoodCourt&#x27;, &#x27;ShoppingMall&#x27;, &#x27;Spa&#x27;, &#x27;VRDeck&#x27;], dtype=&#x27;object&#x27;)),\n",
       "                                (&#x27;cat&#x27;,\n",
       "                                 Pipeline(steps=[(&#x27;imputer&#x27;,\n",
       "                                                  SimpleImputer(strategy=&#x27;most_frequent&#x27;)),\n",
       "                                                 (&#x27;ordinal&#x27;,\n",
       "                                                  OrdinalEncoder(handle_unknown=&#x27;use_encoded_value&#x27;,\n",
       "                                                                 unknown_value=-1))]),\n",
       "                                 Index([&#x27;HomePlanet&#x27;, &#x27;CryoSleep&#x27;, &#x27;Destination&#x27;, &#x27;VIP&#x27;, &#x27;CabinDeck&#x27;,\n",
       "       &#x27;CabinNumber&#x27;, &#x27;CabinSide&#x27;],\n",
       "      dtype=&#x27;object&#x27;))])</pre></div></div></div><div class=\"sk-parallel\"><div class=\"sk-parallel-item\"><div class=\"sk-item\"><div class=\"sk-label-container\"><div class=\"sk-label sk-toggleable\"><input class=\"sk-toggleable__control sk-hidden--visually\" id=\"sk-estimator-id-12\" type=\"checkbox\" ><label for=\"sk-estimator-id-12\" class=\"sk-toggleable__label sk-toggleable__label-arrow\">num</label><div class=\"sk-toggleable__content\"><pre>Index([&#x27;Age&#x27;, &#x27;RoomService&#x27;, &#x27;FoodCourt&#x27;, &#x27;ShoppingMall&#x27;, &#x27;Spa&#x27;, &#x27;VRDeck&#x27;], dtype=&#x27;object&#x27;)</pre></div></div></div><div class=\"sk-serial\"><div class=\"sk-item\"><div class=\"sk-estimator sk-toggleable\"><input class=\"sk-toggleable__control sk-hidden--visually\" id=\"sk-estimator-id-13\" type=\"checkbox\" ><label for=\"sk-estimator-id-13\" class=\"sk-toggleable__label sk-toggleable__label-arrow\">SimpleImputer</label><div class=\"sk-toggleable__content\"><pre>SimpleImputer()</pre></div></div></div></div></div></div><div class=\"sk-parallel-item\"><div class=\"sk-item\"><div class=\"sk-label-container\"><div class=\"sk-label sk-toggleable\"><input class=\"sk-toggleable__control sk-hidden--visually\" id=\"sk-estimator-id-14\" type=\"checkbox\" ><label for=\"sk-estimator-id-14\" class=\"sk-toggleable__label sk-toggleable__label-arrow\">cat</label><div class=\"sk-toggleable__content\"><pre>Index([&#x27;HomePlanet&#x27;, &#x27;CryoSleep&#x27;, &#x27;Destination&#x27;, &#x27;VIP&#x27;, &#x27;CabinDeck&#x27;,\n",
       "       &#x27;CabinNumber&#x27;, &#x27;CabinSide&#x27;],\n",
       "      dtype=&#x27;object&#x27;)</pre></div></div></div><div class=\"sk-serial\"><div class=\"sk-item\"><div class=\"sk-serial\"><div class=\"sk-item\"><div class=\"sk-estimator sk-toggleable\"><input class=\"sk-toggleable__control sk-hidden--visually\" id=\"sk-estimator-id-15\" type=\"checkbox\" ><label for=\"sk-estimator-id-15\" class=\"sk-toggleable__label sk-toggleable__label-arrow\">SimpleImputer</label><div class=\"sk-toggleable__content\"><pre>SimpleImputer(strategy=&#x27;most_frequent&#x27;)</pre></div></div></div><div class=\"sk-item\"><div class=\"sk-estimator sk-toggleable\"><input class=\"sk-toggleable__control sk-hidden--visually\" id=\"sk-estimator-id-16\" type=\"checkbox\" ><label for=\"sk-estimator-id-16\" class=\"sk-toggleable__label sk-toggleable__label-arrow\">OrdinalEncoder</label><div class=\"sk-toggleable__content\"><pre>OrdinalEncoder(handle_unknown=&#x27;use_encoded_value&#x27;, unknown_value=-1)</pre></div></div></div></div></div></div></div></div></div></div><div class=\"sk-item\"><div class=\"sk-estimator sk-toggleable\"><input class=\"sk-toggleable__control sk-hidden--visually\" id=\"sk-estimator-id-17\" type=\"checkbox\" ><label for=\"sk-estimator-id-17\" class=\"sk-toggleable__label sk-toggleable__label-arrow\">RandomForestClassifier</label><div class=\"sk-toggleable__content\"><pre>RandomForestClassifier(max_depth=10, random_state=1)</pre></div></div></div></div></div></div></div>"
      ],
      "text/plain": [
       "Pipeline(steps=[('preprocessor',\n",
       "                 ColumnTransformer(transformers=[('num', SimpleImputer(),\n",
       "                                                  Index(['Age', 'RoomService', 'FoodCourt', 'ShoppingMall', 'Spa', 'VRDeck'], dtype='object')),\n",
       "                                                 ('cat',\n",
       "                                                  Pipeline(steps=[('imputer',\n",
       "                                                                   SimpleImputer(strategy='most_frequent')),\n",
       "                                                                  ('ordinal',\n",
       "                                                                   OrdinalEncoder(handle_unknown='use_encoded_value',\n",
       "                                                                                  unknown_value=-1))]),\n",
       "                                                  Index(['HomePlanet', 'CryoSleep', 'Destination', 'VIP', 'CabinDeck',\n",
       "       'CabinNumber', 'CabinSide'],\n",
       "      dtype='object'))])),\n",
       "                ('model',\n",
       "                 RandomForestClassifier(max_depth=10, random_state=1))])"
      ]
     },
     "execution_count": 18,
     "metadata": {},
     "output_type": "execute_result"
    }
   ],
   "source": [
    "final_pipe.fit(X_train, y_train)"
   ]
  },
  {
   "cell_type": "markdown",
   "id": "977d8188",
   "metadata": {
    "papermill": {
     "duration": 0.014991,
     "end_time": "2023-12-12T02:30:29.630145",
     "exception": false,
     "start_time": "2023-12-12T02:30:29.615154",
     "status": "completed"
    },
    "tags": []
   },
   "source": [
    "### Rearrange Test data"
   ]
  },
  {
   "cell_type": "code",
   "execution_count": 19,
   "id": "0edd7e1d",
   "metadata": {
    "execution": {
     "iopub.execute_input": "2023-12-12T02:30:29.661193Z",
     "iopub.status.busy": "2023-12-12T02:30:29.660841Z",
     "iopub.status.idle": "2023-12-12T02:30:29.686134Z",
     "shell.execute_reply": "2023-12-12T02:30:29.685245Z"
    },
    "papermill": {
     "duration": 0.042701,
     "end_time": "2023-12-12T02:30:29.687709",
     "exception": false,
     "start_time": "2023-12-12T02:30:29.645008",
     "status": "completed"
    },
    "tags": []
   },
   "outputs": [
    {
     "data": {
      "text/html": [
       "<div>\n",
       "<style scoped>\n",
       "    .dataframe tbody tr th:only-of-type {\n",
       "        vertical-align: middle;\n",
       "    }\n",
       "\n",
       "    .dataframe tbody tr th {\n",
       "        vertical-align: top;\n",
       "    }\n",
       "\n",
       "    .dataframe thead th {\n",
       "        text-align: right;\n",
       "    }\n",
       "</style>\n",
       "<table border=\"1\" class=\"dataframe\">\n",
       "  <thead>\n",
       "    <tr style=\"text-align: right;\">\n",
       "      <th></th>\n",
       "      <th>HomePlanet</th>\n",
       "      <th>CryoSleep</th>\n",
       "      <th>Destination</th>\n",
       "      <th>Age</th>\n",
       "      <th>VIP</th>\n",
       "      <th>RoomService</th>\n",
       "      <th>FoodCourt</th>\n",
       "      <th>ShoppingMall</th>\n",
       "      <th>Spa</th>\n",
       "      <th>VRDeck</th>\n",
       "      <th>CabinDeck</th>\n",
       "      <th>CabinNumber</th>\n",
       "      <th>CabinSide</th>\n",
       "    </tr>\n",
       "  </thead>\n",
       "  <tbody>\n",
       "    <tr>\n",
       "      <th>0</th>\n",
       "      <td>Earth</td>\n",
       "      <td>True</td>\n",
       "      <td>TRAPPIST-1e</td>\n",
       "      <td>27.0</td>\n",
       "      <td>False</td>\n",
       "      <td>0.0</td>\n",
       "      <td>0.0</td>\n",
       "      <td>0.0</td>\n",
       "      <td>0.0</td>\n",
       "      <td>0.0</td>\n",
       "      <td>G</td>\n",
       "      <td>3</td>\n",
       "      <td>S</td>\n",
       "    </tr>\n",
       "    <tr>\n",
       "      <th>1</th>\n",
       "      <td>Earth</td>\n",
       "      <td>False</td>\n",
       "      <td>TRAPPIST-1e</td>\n",
       "      <td>19.0</td>\n",
       "      <td>False</td>\n",
       "      <td>0.0</td>\n",
       "      <td>9.0</td>\n",
       "      <td>0.0</td>\n",
       "      <td>2823.0</td>\n",
       "      <td>0.0</td>\n",
       "      <td>F</td>\n",
       "      <td>4</td>\n",
       "      <td>S</td>\n",
       "    </tr>\n",
       "    <tr>\n",
       "      <th>2</th>\n",
       "      <td>Europa</td>\n",
       "      <td>True</td>\n",
       "      <td>55 Cancri e</td>\n",
       "      <td>31.0</td>\n",
       "      <td>False</td>\n",
       "      <td>0.0</td>\n",
       "      <td>0.0</td>\n",
       "      <td>0.0</td>\n",
       "      <td>0.0</td>\n",
       "      <td>0.0</td>\n",
       "      <td>C</td>\n",
       "      <td>0</td>\n",
       "      <td>S</td>\n",
       "    </tr>\n",
       "    <tr>\n",
       "      <th>3</th>\n",
       "      <td>Europa</td>\n",
       "      <td>False</td>\n",
       "      <td>TRAPPIST-1e</td>\n",
       "      <td>38.0</td>\n",
       "      <td>False</td>\n",
       "      <td>0.0</td>\n",
       "      <td>6652.0</td>\n",
       "      <td>0.0</td>\n",
       "      <td>181.0</td>\n",
       "      <td>585.0</td>\n",
       "      <td>C</td>\n",
       "      <td>1</td>\n",
       "      <td>S</td>\n",
       "    </tr>\n",
       "    <tr>\n",
       "      <th>4</th>\n",
       "      <td>Earth</td>\n",
       "      <td>False</td>\n",
       "      <td>TRAPPIST-1e</td>\n",
       "      <td>20.0</td>\n",
       "      <td>False</td>\n",
       "      <td>10.0</td>\n",
       "      <td>0.0</td>\n",
       "      <td>635.0</td>\n",
       "      <td>0.0</td>\n",
       "      <td>0.0</td>\n",
       "      <td>F</td>\n",
       "      <td>5</td>\n",
       "      <td>S</td>\n",
       "    </tr>\n",
       "  </tbody>\n",
       "</table>\n",
       "</div>"
      ],
      "text/plain": [
       "  HomePlanet CryoSleep  Destination   Age    VIP  RoomService  FoodCourt  \\\n",
       "0      Earth      True  TRAPPIST-1e  27.0  False          0.0        0.0   \n",
       "1      Earth     False  TRAPPIST-1e  19.0  False          0.0        9.0   \n",
       "2     Europa      True  55 Cancri e  31.0  False          0.0        0.0   \n",
       "3     Europa     False  TRAPPIST-1e  38.0  False          0.0     6652.0   \n",
       "4      Earth     False  TRAPPIST-1e  20.0  False         10.0        0.0   \n",
       "\n",
       "   ShoppingMall     Spa  VRDeck CabinDeck CabinNumber CabinSide  \n",
       "0           0.0     0.0     0.0         G           3         S  \n",
       "1           0.0  2823.0     0.0         F           4         S  \n",
       "2           0.0     0.0     0.0         C           0         S  \n",
       "3           0.0   181.0   585.0         C           1         S  \n",
       "4         635.0     0.0     0.0         F           5         S  "
      ]
     },
     "execution_count": 19,
     "metadata": {},
     "output_type": "execute_result"
    }
   ],
   "source": [
    "passengerIds = test_data[\"PassengerId\"]\n",
    "\n",
    "test_data = test_data.drop([\"PassengerId\", \"Name\"], axis=1)\n",
    "\n",
    "test_cabins = test_data.Cabin.str.split(\"/\", expand=True)\n",
    "test_cabins = test_cabins.rename(columns={0: \"CabinDeck\", 1: \"CabinNumber\", 2: \"CabinSide\"})\n",
    "\n",
    "test_data = test_data.drop(\"Cabin\", axis=1)\n",
    "test_data = pd.concat([test_data, test_cabins], axis=1)\n",
    "\n",
    "test_data.head()"
   ]
  },
  {
   "cell_type": "code",
   "execution_count": 20,
   "id": "93e45e71",
   "metadata": {
    "execution": {
     "iopub.execute_input": "2023-12-12T02:30:29.719100Z",
     "iopub.status.busy": "2023-12-12T02:30:29.718682Z",
     "iopub.status.idle": "2023-12-12T02:30:29.784803Z",
     "shell.execute_reply": "2023-12-12T02:30:29.783990Z"
    },
    "papermill": {
     "duration": 0.083805,
     "end_time": "2023-12-12T02:30:29.786612",
     "exception": false,
     "start_time": "2023-12-12T02:30:29.702807",
     "status": "completed"
    },
    "tags": []
   },
   "outputs": [],
   "source": [
    "test_data_predictions = final_pipe.predict(test_data)"
   ]
  },
  {
   "cell_type": "code",
   "execution_count": 21,
   "id": "bb8217e9",
   "metadata": {
    "execution": {
     "iopub.execute_input": "2023-12-12T02:30:29.817812Z",
     "iopub.status.busy": "2023-12-12T02:30:29.817571Z",
     "iopub.status.idle": "2023-12-12T02:30:29.828248Z",
     "shell.execute_reply": "2023-12-12T02:30:29.827469Z"
    },
    "papermill": {
     "duration": 0.027991,
     "end_time": "2023-12-12T02:30:29.829819",
     "exception": false,
     "start_time": "2023-12-12T02:30:29.801828",
     "status": "completed"
    },
    "tags": []
   },
   "outputs": [
    {
     "name": "stdout",
     "output_type": "stream",
     "text": [
      "Successfuly created csv\n"
     ]
    }
   ],
   "source": [
    "submission = pd.DataFrame({'PassangerId': passengerIds, 'Transported': test_data_predictions})\n",
    "submission.to_csv('./output/submission.csv', index=False)\n",
    "print(\"Successfuly created csv\")"
   ]
  }
 ],
 "metadata": {
  "kaggle": {
   "accelerator": "none",
   "dataSources": [
    {
     "databundleVersionId": 3220602,
     "sourceId": 34377,
     "sourceType": "competition"
    }
   ],
   "dockerImageVersionId": 30615,
   "isGpuEnabled": false,
   "isInternetEnabled": true,
   "language": "python",
   "sourceType": "notebook"
  },
  "kernelspec": {
   "display_name": "Python 3",
   "language": "python",
   "name": "python3"
  },
  "language_info": {
   "codemirror_mode": {
    "name": "ipython",
    "version": 3
   },
   "file_extension": ".py",
   "mimetype": "text/x-python",
   "name": "python",
   "nbconvert_exporter": "python",
   "pygments_lexer": "ipython3",
   "version": "3.11.6"
  },
  "papermill": {
   "default_parameters": {},
   "duration": 185.56757,
   "end_time": "2023-12-12T02:30:30.363600",
   "environment_variables": {},
   "exception": null,
   "input_path": "__notebook__.ipynb",
   "output_path": "__notebook__.ipynb",
   "parameters": {},
   "start_time": "2023-12-12T02:27:24.796030",
   "version": "2.4.0"
  }
 },
 "nbformat": 4,
 "nbformat_minor": 5
}
